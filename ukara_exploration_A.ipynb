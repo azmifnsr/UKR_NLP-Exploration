{
 "cells": [
  {
   "cell_type": "code",
   "execution_count": 1,
   "metadata": {},
   "outputs": [],
   "source": [
    "import numpy as np\n",
    "import pandas as pd\n",
    "import matplotlib.pyplot as plt\n",
    "import seaborn as sns\n",
    "import string\n",
    "from sklearn.feature_extraction.text import CountVectorizer\n",
    "from sklearn.pipeline import Pipeline\n",
    "from sklearn.naive_bayes import ComplementNB\n",
    "from sklearn.naive_bayes import MultinomialNB\n",
    "from sklearn.ensemble import AdaBoostClassifier\n",
    "from sklearn.metrics import classification_report,confusion_matrix,f1_score\n",
    "from PIL import Image\n",
    "from wordcloud import WordCloud, STOPWORDS, ImageColorGenerator"
   ]
  },
  {
   "cell_type": "markdown",
   "metadata": {},
   "source": [
    "## SASTRAWI EXMPL CODE"
   ]
  },
  {
   "cell_type": "code",
   "execution_count": 2,
   "metadata": {},
   "outputs": [
    {
     "data": {
      "text/plain": [
       "'ekonomi indonesia sedang dalam tumbuh yang bangga'"
      ]
     },
     "execution_count": 2,
     "metadata": {},
     "output_type": "execute_result"
    }
   ],
   "source": [
    "# import Sastrawi package\n",
    "from Sastrawi.Stemmer.StemmerFactory import StemmerFactory\n",
    "stemmer = StemmerFactory().create_stemmer()\n",
    "sentence = 'Perekonomian Indonesia sedang dalam pertumbuhan/yang membanggakan'\n",
    "stemmer.stem(sentence)"
   ]
  },
  {
   "cell_type": "code",
   "execution_count": 3,
   "metadata": {},
   "outputs": [
    {
     "data": {
      "text/plain": [
       "'Dengan Menggunakan Python Library Sastrawi dapat melakukan proses Stopword Removal'"
      ]
     },
     "execution_count": 3,
     "metadata": {},
     "output_type": "execute_result"
    }
   ],
   "source": [
    "from Sastrawi.StopWordRemover.StopWordRemoverFactory import StopWordRemoverFactory\n",
    "kalimat = 'Dengan Menggunakan Python dan Library Sastrawi saya dapat melakukan proses Stopword Removal'\n",
    "swdel = StopWordRemoverFactory().create_stop_word_remover()\n",
    "swdel.remove(kalimat)"
   ]
  },
  {
   "cell_type": "markdown",
   "metadata": {},
   "source": [
    "## TYPO CORRECTION\n",
    "from http://www.yasirblog.com/2017/07/spell-checker-pengecekan-ejaan-untuk-deteksi-perbaikan-typo-bahasa-indonesia.html"
   ]
  },
  {
   "cell_type": "code",
   "execution_count": 4,
   "metadata": {},
   "outputs": [
    {
     "name": "stdout",
     "output_type": "stream",
     "text": [
      "kata typo :  mkan\n",
      "koreksi :  akan\n"
     ]
    }
   ],
   "source": [
    "import re\n",
    "from collections import Counter\n",
    "\n",
    "def words(text): return re.findall(r'\\w+', text.lower())\n",
    "\n",
    "WORDS = Counter(words(open('katadasar.txt').read()))\n",
    "\n",
    "def P(word, N=sum(WORDS.values())): \n",
    "    # \"Probability of `word`.\"\n",
    "    return WORDS[word] / N\n",
    "\n",
    "def correction(word): \n",
    "    # \"Most probable spelling correction for word.\"\n",
    "    return max(candidates(word), key=P)\n",
    "\n",
    "def candidates(word): \n",
    "    # \"Generate possible spelling corrections for word.\"\n",
    "    return (known([word]) or known(edits1(word)) or known(edits2(word)) or [word])\n",
    "\n",
    "def known(words): \n",
    "    # \"The subset of `words` that appear in the dictionary of WORDS.\"\n",
    "    return set(w for w in words if w in WORDS)\n",
    "\n",
    "def edits1(word):\n",
    "    # \"All edits that are one edit away from `word`.\"\n",
    "    letters    = 'abcdefghijklmnopqrstuvwxyz'\n",
    "    splits     = [(word[:i], word[i:])    for i in range(len(word) + 1)] # [('', 'kemarin'), ('k', 'emarin'), ('ke', 'marin'), dst]\n",
    "    deletes    = [L + R[1:]               for L, R in splits if R] # ['emarin', 'kmarin', 'kearin', dst]\n",
    "    transposes = [L + R[1] + R[0] + R[2:] for L, R in splits if len(R)>1] # ['ekmarin', 'kmearin', 'keamrin', dst]\n",
    "    replaces   = [L + c + R[1:]           for L, R in splits if R for c in letters] # ['aemarin', 'bemarin', 'cemarin', dst]\n",
    "    inserts    = [L + c + R               for L, R in splits for c in letters] # ['akemarin', 'bkemarin', 'ckemarin', dst]\n",
    "    return set(deletes + transposes + replaces + inserts)\n",
    "\n",
    "def edits2(word): \n",
    "    # \"All edits that are two edits away from `word`.\"\n",
    "    return (e2 for e1 in edits1(word) for e2 in edits1(e1))\n",
    "#check typo dalam kalimat\n",
    "def checktypo(string):\n",
    "    string = str(string)\n",
    "    listword = string.split()\n",
    "    index=0\n",
    "    for word in string.split():\n",
    "        listword[index]=correction(word)\n",
    "        index = index+1\n",
    "    newstr = ' '.join(word for word in listword)\n",
    "    return (newstr)\n",
    "\n",
    "kata = 'mkan'\n",
    "print('kata typo : ', kata)\n",
    "print('koreksi : ', correction(kata))"
   ]
  },
  {
   "cell_type": "code",
   "execution_count": 5,
   "metadata": {},
   "outputs": [
    {
     "data": {
      "text/plain": [
       "'karena orang lebih suka menyumbang'"
      ]
     },
     "execution_count": 5,
     "metadata": {},
     "output_type": "execute_result"
    }
   ],
   "source": [
    "checktypo('karna orang lebih suka menyumbang')"
   ]
  },
  {
   "cell_type": "markdown",
   "metadata": {},
   "source": [
    "### Try KBBI"
   ]
  },
  {
   "cell_type": "code",
   "execution_count": 6,
   "metadata": {},
   "outputs": [
    {
     "name": "stdout",
     "output_type": "stream",
     "text": [
      "not in kbbi\n"
     ]
    }
   ],
   "source": [
    "from kbbi import KBBI\n",
    "string = 'asdf'\n",
    "try:\n",
    "    print(KBBI(string))\n",
    "except:\n",
    "    print('not in kbbi')"
   ]
  },
  {
   "cell_type": "markdown",
   "metadata": {},
   "source": [
    "### START DATA EXPLORATION"
   ]
  },
  {
   "cell_type": "code",
   "execution_count": 7,
   "metadata": {},
   "outputs": [
    {
     "name": "stdout",
     "output_type": "stream",
     "text": [
      "268\n",
      "       RES_ID  RESPONSE\n",
      "LABEL                  \n",
      "0          77        77\n",
      "1         191       191\n"
     ]
    },
    {
     "data": {
      "text/html": [
       "<div>\n",
       "<style scoped>\n",
       "    .dataframe tbody tr th:only-of-type {\n",
       "        vertical-align: middle;\n",
       "    }\n",
       "\n",
       "    .dataframe tbody tr th {\n",
       "        vertical-align: top;\n",
       "    }\n",
       "\n",
       "    .dataframe thead th {\n",
       "        text-align: right;\n",
       "    }\n",
       "</style>\n",
       "<table border=\"1\" class=\"dataframe\">\n",
       "  <thead>\n",
       "    <tr style=\"text-align: right;\">\n",
       "      <th></th>\n",
       "      <th>RES_ID</th>\n",
       "      <th>RESPONSE</th>\n",
       "      <th>LABEL</th>\n",
       "    </tr>\n",
       "  </thead>\n",
       "  <tbody>\n",
       "    <tr>\n",
       "      <th>0</th>\n",
       "      <td>TRA1</td>\n",
       "      <td>intetraksi/beradaptasi terhadap lingkungan yan...</td>\n",
       "      <td>1</td>\n",
       "    </tr>\n",
       "    <tr>\n",
       "      <th>1</th>\n",
       "      <td>TRA2</td>\n",
       "      <td>seperti jatuhnya meteor tsunami gempa bumi</td>\n",
       "      <td>0</td>\n",
       "    </tr>\n",
       "    <tr>\n",
       "      <th>2</th>\n",
       "      <td>TRA3</td>\n",
       "      <td>hanya tuhan yang tahu tantangan nya itu apaan</td>\n",
       "      <td>0</td>\n",
       "    </tr>\n",
       "    <tr>\n",
       "      <th>3</th>\n",
       "      <td>TRA4</td>\n",
       "      <td>mereka akan sulit beradaptasi</td>\n",
       "      <td>1</td>\n",
       "    </tr>\n",
       "    <tr>\n",
       "      <th>4</th>\n",
       "      <td>TRA5</td>\n",
       "      <td>Tempat tinggal, ekonomi, dan pekerjaan</td>\n",
       "      <td>1</td>\n",
       "    </tr>\n",
       "  </tbody>\n",
       "</table>\n",
       "</div>"
      ],
      "text/plain": [
       "  RES_ID                                           RESPONSE  LABEL\n",
       "0   TRA1  intetraksi/beradaptasi terhadap lingkungan yan...      1\n",
       "1   TRA2         seperti jatuhnya meteor tsunami gempa bumi      0\n",
       "2   TRA3      hanya tuhan yang tahu tantangan nya itu apaan      0\n",
       "3   TRA4                      mereka akan sulit beradaptasi      1\n",
       "4   TRA5             Tempat tinggal, ekonomi, dan pekerjaan      1"
      ]
     },
     "execution_count": 7,
     "metadata": {},
     "output_type": "execute_result"
    }
   ],
   "source": [
    "data=pd.read_csv('UKARA DATA A/Data A/data_train_A.csv')\n",
    "print(len(data))\n",
    "print(data.groupby(data['LABEL']).count())\n",
    "data.head()"
   ]
  },
  {
   "cell_type": "code",
   "execution_count": 8,
   "metadata": {},
   "outputs": [
    {
     "data": {
      "text/plain": [
       "RES_ID      object\n",
       "RESPONSE    object\n",
       "LABEL        int64\n",
       "dtype: object"
      ]
     },
     "execution_count": 8,
     "metadata": {},
     "output_type": "execute_result"
    }
   ],
   "source": [
    "data.dtypes"
   ]
  },
  {
   "cell_type": "code",
   "execution_count": 9,
   "metadata": {},
   "outputs": [
    {
     "data": {
      "text/plain": [
       "Text(0.5, 1.0, 'count label')"
      ]
     },
     "execution_count": 9,
     "metadata": {},
     "output_type": "execute_result"
    },
    {
     "data": {
      "image/png": "[encoded data removed]",
      "text/plain": [
       "<Figure size 432x288 with 1 Axes>"
      ]
     },
     "metadata": {
      "needs_background": "light"
     },
     "output_type": "display_data"
    }
   ],
   "source": [
    "sns.countplot(data['LABEL'])\n",
    "plt.xlabel('Label')\n",
    "plt.title('count label')"
   ]
  },
  {
   "cell_type": "code",
   "execution_count": 10,
   "metadata": {},
   "outputs": [
    {
     "name": "stdout",
     "output_type": "stream",
     "text": [
      "There are 23645 words in the combination of all review.\n"
     ]
    },
    {
     "data": {
      "image/png": "[encoded data removed]",
      "text/plain": [
       "<Figure size 432x288 with 1 Axes>"
      ]
     },
     "metadata": {
      "needs_background": "light"
     },
     "output_type": "display_data"
    }
   ],
   "source": [
    "text = \" \".join(review for review in data.RESPONSE)\n",
    "print (\"There are {} words in the combination of all review.\".format(len(text)))\n",
    "wordcloud = WordCloud(max_font_size=50, max_words=100, background_color=\"white\").generate(text)\n",
    "plt.figure()\n",
    "plt.imshow(wordcloud, interpolation=\"bilinear\")\n",
    "plt.axis(\"off\")\n",
    "plt.show()"
   ]
  },
  {
   "cell_type": "code",
   "execution_count": 11,
   "metadata": {},
   "outputs": [
    {
     "data": {
      "text/plain": [
       "[('yang', 178),\n",
       " ('mereka', 167),\n",
       " ('akan', 133),\n",
       " ('tempat', 94),\n",
       " ('dan', 91),\n",
       " ('baru', 88),\n",
       " ('dengan', 80),\n",
       " ('lingkungan', 62),\n",
       " ('di', 58),\n",
       " ('beradaptasi', 55)]"
      ]
     },
     "execution_count": 11,
     "metadata": {},
     "output_type": "execute_result"
    }
   ],
   "source": [
    "from collections import Counter\n",
    "cnt = Counter()\n",
    "for text in data[\"RESPONSE\"].values:\n",
    "    for word in text.split():\n",
    "        cnt[word] += 1\n",
    "        \n",
    "cnt.most_common(10)"
   ]
  },
  {
   "cell_type": "markdown",
   "metadata": {},
   "source": [
    "## PREP DATA"
   ]
  },
  {
   "cell_type": "code",
   "execution_count": 12,
   "metadata": {},
   "outputs": [
    {
     "data": {
      "text/html": [
       "<div>\n",
       "<style scoped>\n",
       "    .dataframe tbody tr th:only-of-type {\n",
       "        vertical-align: middle;\n",
       "    }\n",
       "\n",
       "    .dataframe tbody tr th {\n",
       "        vertical-align: top;\n",
       "    }\n",
       "\n",
       "    .dataframe thead th {\n",
       "        text-align: right;\n",
       "    }\n",
       "</style>\n",
       "<table border=\"1\" class=\"dataframe\">\n",
       "  <thead>\n",
       "    <tr style=\"text-align: right;\">\n",
       "      <th></th>\n",
       "      <th>RES_ID</th>\n",
       "      <th>RESPONSE</th>\n",
       "      <th>LABEL</th>\n",
       "      <th>processed</th>\n",
       "    </tr>\n",
       "  </thead>\n",
       "  <tbody>\n",
       "    <tr>\n",
       "      <th>0</th>\n",
       "      <td>TRA1</td>\n",
       "      <td>intetraksi/beradaptasi terhadap lingkungan yan...</td>\n",
       "      <td>1</td>\n",
       "      <td>intetraksi/beradaptasi terhadap lingkungan yan...</td>\n",
       "    </tr>\n",
       "    <tr>\n",
       "      <th>1</th>\n",
       "      <td>TRA2</td>\n",
       "      <td>seperti jatuhnya meteor tsunami gempa bumi</td>\n",
       "      <td>0</td>\n",
       "      <td>seperti jatuhnya meteor tsunami gempa bumi</td>\n",
       "    </tr>\n",
       "    <tr>\n",
       "      <th>2</th>\n",
       "      <td>TRA3</td>\n",
       "      <td>hanya tuhan yang tahu tantangan nya itu apaan</td>\n",
       "      <td>0</td>\n",
       "      <td>hanya tuhan yang tahu tantangan nya itu apaan</td>\n",
       "    </tr>\n",
       "    <tr>\n",
       "      <th>3</th>\n",
       "      <td>TRA4</td>\n",
       "      <td>mereka akan sulit beradaptasi</td>\n",
       "      <td>1</td>\n",
       "      <td>mereka akan sulit beradaptasi</td>\n",
       "    </tr>\n",
       "    <tr>\n",
       "      <th>4</th>\n",
       "      <td>TRA5</td>\n",
       "      <td>Tempat tinggal, ekonomi, dan pekerjaan</td>\n",
       "      <td>1</td>\n",
       "      <td>tempat tinggal, ekonomi, dan pekerjaan</td>\n",
       "    </tr>\n",
       "  </tbody>\n",
       "</table>\n",
       "</div>"
      ],
      "text/plain": [
       "  RES_ID                                           RESPONSE  LABEL  \\\n",
       "0   TRA1  intetraksi/beradaptasi terhadap lingkungan yan...      1   \n",
       "1   TRA2         seperti jatuhnya meteor tsunami gempa bumi      0   \n",
       "2   TRA3      hanya tuhan yang tahu tantangan nya itu apaan      0   \n",
       "3   TRA4                      mereka akan sulit beradaptasi      1   \n",
       "4   TRA5             Tempat tinggal, ekonomi, dan pekerjaan      1   \n",
       "\n",
       "                                           processed  \n",
       "0  intetraksi/beradaptasi terhadap lingkungan yan...  \n",
       "1         seperti jatuhnya meteor tsunami gempa bumi  \n",
       "2      hanya tuhan yang tahu tantangan nya itu apaan  \n",
       "3                      mereka akan sulit beradaptasi  \n",
       "4             tempat tinggal, ekonomi, dan pekerjaan  "
      ]
     },
     "execution_count": 12,
     "metadata": {},
     "output_type": "execute_result"
    }
   ],
   "source": [
    "data['processed'] = data['RESPONSE'].str.lower()\n",
    "data.head()"
   ]
  },
  {
   "cell_type": "code",
   "execution_count": 13,
   "metadata": {},
   "outputs": [
    {
     "name": "stderr",
     "output_type": "stream",
     "text": [
      "C:\\Users\\iykmuham0008\\AppData\\Local\\Continuum\\anaconda3\\lib\\site-packages\\ipykernel_launcher.py:10: SettingWithCopyWarning: \n",
      "A value is trying to be set on a copy of a slice from a DataFrame\n",
      "\n",
      "See the caveats in the documentation: http://pandas.pydata.org/pandas-docs/stable/indexing.html#indexing-view-versus-copy\n",
      "  # Remove the CWD from sys.path while we load stuff.\n",
      "C:\\Users\\iykmuham0008\\AppData\\Local\\Continuum\\anaconda3\\lib\\site-packages\\ipykernel_launcher.py:15: SettingWithCopyWarning: \n",
      "A value is trying to be set on a copy of a slice from a DataFrame\n",
      "\n",
      "See the caveats in the documentation: http://pandas.pydata.org/pandas-docs/stable/indexing.html#indexing-view-versus-copy\n",
      "  from ipykernel import kernelapp as app\n",
      "C:\\Users\\iykmuham0008\\AppData\\Local\\Continuum\\anaconda3\\lib\\site-packages\\ipykernel_launcher.py:20: SettingWithCopyWarning: \n",
      "A value is trying to be set on a copy of a slice from a DataFrame\n",
      "\n",
      "See the caveats in the documentation: http://pandas.pydata.org/pandas-docs/stable/indexing.html#indexing-view-versus-copy\n"
     ]
    },
    {
     "data": {
      "text/html": [
       "<div>\n",
       "<style scoped>\n",
       "    .dataframe tbody tr th:only-of-type {\n",
       "        vertical-align: middle;\n",
       "    }\n",
       "\n",
       "    .dataframe tbody tr th {\n",
       "        vertical-align: top;\n",
       "    }\n",
       "\n",
       "    .dataframe thead th {\n",
       "        text-align: right;\n",
       "    }\n",
       "</style>\n",
       "<table border=\"1\" class=\"dataframe\">\n",
       "  <thead>\n",
       "    <tr style=\"text-align: right;\">\n",
       "      <th></th>\n",
       "      <th>RES_ID</th>\n",
       "      <th>RESPONSE</th>\n",
       "      <th>LABEL</th>\n",
       "      <th>processed</th>\n",
       "    </tr>\n",
       "  </thead>\n",
       "  <tbody>\n",
       "    <tr>\n",
       "      <th>0</th>\n",
       "      <td>TRA1</td>\n",
       "      <td>intetraksi/beradaptasi terhadap lingkungan yan...</td>\n",
       "      <td>1</td>\n",
       "      <td>intetraksi adaptasi hadap lingkung buang baru</td>\n",
       "    </tr>\n",
       "    <tr>\n",
       "      <th>1</th>\n",
       "      <td>TRA2</td>\n",
       "      <td>seperti jatuhnya meteor tsunami gempa bumi</td>\n",
       "      <td>0</td>\n",
       "      <td>jatuh meteor tsunami gempa bumi</td>\n",
       "    </tr>\n",
       "    <tr>\n",
       "      <th>2</th>\n",
       "      <td>TRA3</td>\n",
       "      <td>hanya tuhan yang tahu tantangan nya itu apaan</td>\n",
       "      <td>0</td>\n",
       "      <td>tuhan buang tahu tantang nya akan</td>\n",
       "    </tr>\n",
       "    <tr>\n",
       "      <th>3</th>\n",
       "      <td>TRA4</td>\n",
       "      <td>mereka akan sulit beradaptasi</td>\n",
       "      <td>1</td>\n",
       "      <td>akan sulit adaptasi</td>\n",
       "    </tr>\n",
       "    <tr>\n",
       "      <th>4</th>\n",
       "      <td>TRA5</td>\n",
       "      <td>Tempat tinggal, ekonomi, dan pekerjaan</td>\n",
       "      <td>1</td>\n",
       "      <td>tempat tinggal ekonomi kerja</td>\n",
       "    </tr>\n",
       "  </tbody>\n",
       "</table>\n",
       "</div>"
      ],
      "text/plain": [
       "  RES_ID                                           RESPONSE  LABEL  \\\n",
       "0   TRA1  intetraksi/beradaptasi terhadap lingkungan yan...      1   \n",
       "1   TRA2         seperti jatuhnya meteor tsunami gempa bumi      0   \n",
       "2   TRA3      hanya tuhan yang tahu tantangan nya itu apaan      0   \n",
       "3   TRA4                      mereka akan sulit beradaptasi      1   \n",
       "4   TRA5             Tempat tinggal, ekonomi, dan pekerjaan      1   \n",
       "\n",
       "                                       processed  \n",
       "0  intetraksi adaptasi hadap lingkung buang baru  \n",
       "1                jatuh meteor tsunami gempa bumi  \n",
       "2              tuhan buang tahu tantang nya akan  \n",
       "3                            akan sulit adaptasi  \n",
       "4                   tempat tinggal ekonomi kerja  "
      ]
     },
     "execution_count": 13,
     "metadata": {},
     "output_type": "execute_result"
    }
   ],
   "source": [
    "from Sastrawi.Stemmer.StemmerFactory import StemmerFactory\n",
    "from Sastrawi.StopWordRemover.StopWordRemoverFactory import StopWordRemoverFactory\n",
    "\n",
    "stemmer = StemmerFactory().create_stemmer()\n",
    "swdel = StopWordRemoverFactory().create_stop_word_remover()\n",
    "\n",
    "#insert typos correction here\n",
    "tmp = 0 #row index\n",
    "for row in data['processed']:\n",
    "    data['processed'][tmp] = checktypo(row)\n",
    "    tmp = tmp+1\n",
    "\n",
    "tmp = 0 #row index\n",
    "for row in data['processed']:\n",
    "    data['processed'][tmp] = stemmer.stem(row)\n",
    "    tmp = tmp+1\n",
    "    \n",
    "tmp = 0 #row index\n",
    "for row in data['processed']:\n",
    "    data['processed'][tmp] = swdel.remove(row)\n",
    "    tmp = tmp+1\n",
    "    \n",
    "data.head()"
   ]
  },
  {
   "cell_type": "code",
   "execution_count": 14,
   "metadata": {},
   "outputs": [
    {
     "name": "stdout",
     "output_type": "stream",
     "text": [
      "0    intetraksi adaptasi hadap lingkung buang baru\n",
      "1                  jatuh meteor tsunami gempa bumi\n",
      "2                tuhan buang tahu tantang nya akan\n",
      "3                              akan sulit adaptasi\n",
      "4                     tempat tinggal ekonomi kerja\n",
      "Name: processed, dtype: object\n",
      "263                                                                  harus ajar adaptasi lingkung buang baru\n",
      "264    salah satu tantang buang hadap ungsi iklim sulit baur cari kerja baru laku langsung hidup tempat baru\n",
      "265                                        hadap lingkung buang mungkin akan perlu waktu buang lama adaptasi\n",
      "266                          akan baur depan orang baru usaha terima budaya baru cari mampu kerja buang beda\n",
      "267                                                                                      cari tempat tinggal\n",
      "Name: processed, dtype: object\n"
     ]
    }
   ],
   "source": [
    "with pd.option_context('display.max_rows', 999,'display.max_colwidth', 999):\n",
    "    print(data['processed'].head())\n",
    "    print(data['processed'].tail())\n",
    "    #print(data['processed'])"
   ]
  },
  {
   "cell_type": "code",
   "execution_count": 15,
   "metadata": {},
   "outputs": [
    {
     "name": "stdout",
     "output_type": "stream",
     "text": [
      "[('buang', 189), ('baru', 125), ('tempat', 113), ('depan', 95), ('akan', 85), ('lingkung', 74), ('adaptasi', 70), ('tinggal', 60), ('iklim', 58), ('ungsi', 52), ('hilang', 46), ('negara', 40), ('mereka', 39), ('harus', 34), ('kerja', 33), ('hadap', 32), ('orang', 32), ('tantang', 27), ('pindah', 26), ('sulit', 25), ('tani', 25), ('jadi', 23), ('bencana', 23), ('mungkin', 21), ('sesuai', 20), ('hidup', 20), ('beda', 19), ('di', 18), ('komunitas', 18), ('biasa', 18), ('cari', 18), ('travina', 17), ('paksa', 16), ('lama', 15), ('susah', 15), ('sebut', 14), ('diri', 14), ('tidak', 13), ('satu', 13), ('warga', 13), ('rasa', 11), ('perlu', 11), ('nya', 10), ('butuh', 10), ('milik', 10), ('mulai', 10), ('kurang', 9), ('dulu', 8), ('laku', 8), ('pakai', 8), ('juga', 8), ('daerah', 8), ('lebih', 8), ('rumah', 7), ('nyaman', 7), ('bisa', 7), ('budaya', 7), ('salah', 6), ('sangat', 6), ('ubah', 6), ('besar', 6), ('dari', 6), ('baik', 6), ('belum', 6), ('dapat', 6), ('hari', 6), ('rela', 5), ('semua', 5), ('masalah', 5), ('alami', 5), ('sama', 5), ('banyak', 5), ('kenal', 5), ('ada', 5), ('duduk', 5), ('tentu', 5), ('ekonomi', 4), ('layak', 4), ('yg', 4), ('cahari', 4), ('keluarga', 4), ('meningalkan', 4), ('harta', 4), ('usaha', 4), ('dia', 4), ('turun', 4), ('untuk', 4), ('saat', 4), ('tetap', 3), ('punya', 3), ('adalah', 3), ('bahasa', 3), ('para', 3), ('kebun', 3), ('bangun', 3), ('asing', 3), ('karena', 3), ('baur', 3), ('terima', 3), ('jalan', 3), ('cara', 3), ('waspada', 3), ('benda', 3), ('raka', 3), ('sosial', 3), ('ajar', 3), ('kondisi', 3), ('rusak', 3), ('suasana', 3), ('bagai', 3), ('sumber', 3), ('mata', 3), ('waktu', 3), ('tahu', 2), ('hormat', 2), ('dalam', 2), ('alam', 2), ('mau', 2), ('kena', 2), ('pada', 2), ('tan', 2), ('itu', 2), ('datang', 2), ('jamin', 2), ('sektor', 2), ('pariwisata', 2), ('ikan', 2), ('panas', 2), ('cuaca', 2), ('tantanganya', 2), ('proses', 2), ('imigran', 2), ('segala', 2), ('tahan', 2), ('suka', 2), ('ahli', 2), ('lain', 2), ('tingal', 2), ('buat', 2), ('lai', 2), ('sana', 2), ('tubuh', 2), ('gaul', 2), ('jauh', 2), ('pernah', 2), ('hasil', 2), ('garap', 2), ('ber', 2), ('hindar', 2), ('tinggi', 2), ('minum', 2), ('tas', 2), ('proyek', 2), ('diskriminasi', 2), ('linkungan', 2), ('kembang', 2), ('ketika', 2), ('sakit', 2), ('air', 2), ('mencri', 2), ('sekarang', 2), ('interaksi', 2), ('pasti', 2), ('seperti', 2), ('sendiri', 2), ('daya', 2), ('tiap', 2), ('dgn', 2), ('sudah', 2), ('donasi', 2), ('pun', 2), ('intetraksi', 1), ('jatuh', 1), ('meteor', 1), ('tsunami', 1), ('gempa', 1), ('bumi', 1), ('tuhan', 1), ('ganggu', 1), ('kesehatanya', 1), ('merekanperlu', 1), ('kasus', 1), ('musibah', 1), ('lawan', 1), ('beser', 1), ('fasilitas', 1), ('giat', 1), ('makna', 1), ('bebas', 1), ('fkjgrioejtklejtdfljlkgr', 1), ('aneh', 1), ('yaitu', 1), ('nelayan', 1), ('pisah', 1), ('tembat', 1), ('trpaksa', 1), ('canda', 1), ('mudah', 1), ('dapatdidapatkan', 1), ('pengngungsi', 1), ('lapang', 1), ('derita', 1), ('sebab', 1), ('puengungsi', 1), ('bantu', 1), ('mana', 1), ('beradapatsi', 1), ('pengunsi', 1), ('ia', 1), ('nal', 1), ('imigrasi', 1), ('amerika', 1), ('tolak', 1), ('luar', 1), ('wilayah', 1), ('kalau', 1), ('uis', 1), ('komunikasi', 1), ('beencna', 1), ('tengelam', 1), ('atur', 1), ('tatanan', 1), ('pengaruh', 1), ('lewat', 1), ('betah', 1), ('asal', 1), ('tidur', 1), ('nyenyak', 1), ('mandi', 1), ('antri', 1), ('tampat', 1), ('harga', 1), ('enak', 1), ('nara', 1), ('lahan', 1), ('jika', 1), ('telah', 1), ('sukses', 1), ('payah', 1), ('rintis', 1), ('nol', 1), ('suhu', 1), ('unutk', 1), ('coccok', 1), ('rugi', 1), ('tumbuh', 1), ('subur', 1), ('tentang', 1), ('sekitar', 1), ('i', 1), ('ulang', 1), ('matapencarian', 1), ('kekuranngan', 1), ('apabila', 1), ('pidah', 1), ('pertama', 1), ('yag', 1), ('senang', 1), ('dapet', 1), ('film', 1), ('dokumenter', 1), ('populer', 1), ('faktor', 1), ('pangan', 1), ('obat', 1), ('saling', 1), ('sempit', 1), ('uang', 1), ('merkea', 1), ('tuju', 1), ('wisatawan', 1), ('ialah', 1), ('pekerjan', 1), ('pertanianakan', 1), ('trepisah', 1), ('pngungsi', 1), ('ehinggga', 1), ('mrnjadi', 1), ('ebuah', 1), ('tantangaan', 1), ('lingkunggan', 1), ('nsama', 1), ('selamat', 1), ('meninggalakn', 1), ('adan', 1), ('sepi', 1), ('terlalu', 1), ('layank', 1), ('pekejaan', 1), ('dibaksa', 1), ('suilt', 1), ('keafaan', 1), ('orr', 1), ('lnfl', 1), ('wfil', 1), ('segi', 1), ('guna', 1), ('beroindah', 1), ('sebelumya', 1), ('resiko', 1), ('tak', 1), ('ling', 1), ('sakitar', 1), ('wilaya', 1), ('pinda', 1), ('meninggaalkan', 1), ('perttanian', 1), ('denga', 1), ('penuh', 1), ('gugup', 1), ('hal', 1), ('dukung', 1), ('terpksa', 1), ('lanjut', 1), ('awal', 1), ('dibully', 1), ('asli', 1), ('hitam', 1), ('putih', 1), ('ramah', 1), ('makananan', 1), ('lalu', 1), ('bukan', 1), ('contoh', 1), ('mau-tidak', 1), ('ikut', 1), ('situasi', 1), ('tantanganakandihadapiparapengunsi', 1), ('anggap', 1), ('tambah', 1), ('jumlah', 1), ('padat', 1), ('suatu', 1), ('selaim', 1), ('ingin', 1), ('salahsatunya', 1), ('seahri', 1), ('temsn', 1), ('obrol', 1), ('berbicra', 1), ('paham', 1), ('sering', 1), ('aktifvitas', 1), ('hambat', 1), ('luk', 1), ('sesah', 1), ('sekali', 1), ('kucil', 1), ('tata', 1), ('tertib', 1), ('haru', 1), ('tetangga', 1), ('tidah', 1), ('brubah', 1), ('pungunsi', 1), ('akibat', 1), ('sehinnga', 1), ('kehilagan', 1), ('cocok', 1), ('sibuk', 1), ('terus', 1), ('iring', 1), ('pasi', 1), ('bahagia', 1), ('turut', 1), ('iklimk', 1), ('1', 1), ('makan', 1), ('2', 1), ('3', 1), ('dana', 1), ('tip', 1), ('4', 1), ('manfaat', 1), ('menigalkan', 1), ('ke', 1), ('meng', 1), ('ngusi', 1), ('mengakami', 1), ('cik', 1), ('bila', 1), ('tolong', 1), ('medis', 1), ('didik', 1), ('adap', 1), ('nyha', 1), ('kalu', 1), ('sejarah', 1), ('batas', 1), ('cukup', 1), ('konflik', 1), ('batin', 1), ('dingin', 1), ('kini', 1), ('hun', 1), ('masih', 1), ('urus', 1), ('kerabat', 1), ('lah', 1), ('pokok', 1), ('manyarakat', 1), ('naik', 1), ('muka', 1), ('laut', 1), ('timbang', 1), ('kesehariaannya', 1), ('landa', 1), ('jenis', 1), ('asupan', 1), ('neka', 1), ('munggin', 1), ('jari', 1), ('imbang', 1), ('tetapi', 1), ('memberika', 1), ('lihat', 1), ('bahwa', 1), ('antanagn', 1), ('lumayan', 1), ('membiasakann', 1), ('pergi', 1), ('negeri', 1), ('kehidupanya', 1), ('anggur', 1), ('kluarga', 1), ('datar', 1), ('rendah', 1), ('bajir', 1), ('cepat', 1), ('beri', 1), ('ywarga', 1), ('tania', 1), ('resa', 1), ('gelisa', 1), ('biar', 1), ('tenang', 1), ('meski', 1), ('bahaya', 1), ('nyawa', 1), ('nanti', 1), ('gmna', 1), ('kedaan', 1), ('sedang', 1), ('taruh', 1), ('bagainmana', 1), ('paling', 1), ('utama', 1), ('aspek', 1), ('bagus', 1), ('memikirikan', 1), ('lingkungn', 1), ('ikllim', 1), ('minta', 1), ('tanggung', 1), ('jawab', 1), ('temu', 1), ('bebeda', 1), ('tanah', 1), ('lahir', 1), ('pikir', 1), ('sukar', 1), ('cuma', 1), ('demgam', 1), ('barunyabisa', 1), ('beberapa', 1), ('prnduduk', 1), ('langsung', 1), ('mampu', 1)]\n"
     ]
    }
   ],
   "source": [
    "from collections import Counter\n",
    "cnt = Counter()\n",
    "for text in data[\"processed\"].values:\n",
    "    for word in text.split():\n",
    "        cnt[word] += 1\n",
    "        \n",
    "print(cnt.most_common(999))"
   ]
  },
  {
   "cell_type": "markdown",
   "metadata": {},
   "source": [
    "## MODELING without processing"
   ]
  },
  {
   "cell_type": "code",
   "execution_count": 17,
   "metadata": {},
   "outputs": [
    {
     "name": "stdout",
     "output_type": "stream",
     "text": [
      "(214,)\n",
      "(54,)\n"
     ]
    }
   ],
   "source": [
    "from sklearn.model_selection import train_test_split\n",
    "xtr,xts,ytr,yts=train_test_split(data['RESPONSE'].apply(lambda x:x.lower()),data['LABEL'],\n",
    "    stratify=data['LABEL'],\n",
    "    test_size=0.2, \n",
    "    random_state=420)\n",
    "print(xtr.shape)\n",
    "print(xts.shape)"
   ]
  },
  {
   "cell_type": "code",
   "execution_count": 18,
   "metadata": {},
   "outputs": [],
   "source": [
    "test=pd.read_csv('UKARA DATA A/Data A/data_dev_A.csv')\n",
    "#print(np.array(test['RESPONSE']).reshape(len(test['RESPONSE']),1))"
   ]
  },
  {
   "cell_type": "code",
   "execution_count": 19,
   "metadata": {},
   "outputs": [],
   "source": [
    "\n",
    "multinomialPipeline = Pipeline([\n",
    "    ('cv',CountVectorizer()),\n",
    "    ('classifier',MultinomialNB())\n",
    "])\n",
    "multinomialPipeline.fit(xtr,ytr)\n",
    "multinomialPrediksiTrain = multinomialPipeline.predict(xtr)\n",
    "multinomialPrediksi = multinomialPipeline.predict(xts)\n",
    "multinomialPrediksiDev = multinomialPipeline.predict(test['RESPONSE'].apply(lambda x:x.lower()))"
   ]
  },
  {
   "cell_type": "code",
   "execution_count": 20,
   "metadata": {},
   "outputs": [],
   "source": [
    "complementPipeline = Pipeline([\n",
    "    ('cv',CountVectorizer()),\n",
    "    ('classifier',ComplementNB())\n",
    "])\n",
    "complementPipeline.fit(xtr,ytr)\n",
    "complementPrediksiTrain = complementPipeline.predict(xtr)\n",
    "complementPrediksi = complementPipeline.predict(xts)\n",
    "complementPrediksiDev = complementPipeline.predict(test['RESPONSE'].apply(lambda x:x.lower()))"
   ]
  },
  {
   "cell_type": "code",
   "execution_count": 21,
   "metadata": {},
   "outputs": [],
   "source": [
    "adaboostPipeline = Pipeline([\n",
    "    ('cv',CountVectorizer()),\n",
    "    ('classifier',AdaBoostClassifier())\n",
    "])\n",
    "adaboostPipeline.fit(xtr,ytr)\n",
    "adaboostPrediksiTrain = adaboostPipeline.predict(xtr)\n",
    "adaboostPrediksi = adaboostPipeline.predict(xts)\n",
    "adaboostPrediksiDev = adaboostPipeline.predict(test['RESPONSE'].apply(lambda x:x.lower()))"
   ]
  },
  {
   "cell_type": "code",
   "execution_count": 22,
   "metadata": {},
   "outputs": [
    {
     "name": "stdout",
     "output_type": "stream",
     "text": [
      "[1 0 1 1 1 1 1 1 1 1 1 1 1 1 1 1 1 1 1 1 1 1 1 1 1 1 0 1 1 1 1 0 1 1 1 1 1\n",
      " 1 1 1 1 1 1 1 1 1 1 1 1 1 1 1 1 1]\n",
      "----------------------------------------------------\n",
      "[1 0 1 1 1 0 1 1 1 1 1 1 1 1 1 1 1 1 1 0 0 1 1 0 1 1 0 1 1 1 1 0 0 1 1 1 1\n",
      " 1 1 1 1 1 1 1 1 1 1 1 1 1 0 1 1 1]\n"
     ]
    }
   ],
   "source": [
    "print(multinomialPrediksi)\n",
    "print(\"----------------------------------------------------\")\n",
    "print(complementPrediksi)"
   ]
  },
  {
   "cell_type": "code",
   "execution_count": 23,
   "metadata": {},
   "outputs": [
    {
     "name": "stdout",
     "output_type": "stream",
     "text": [
      "Dengan metode MultinomialNB, diperoleh: \n",
      "              precision    recall  f1-score   support\n",
      "\n",
      "           0       1.00      0.19      0.32        16\n",
      "           1       0.75      1.00      0.85        38\n",
      "\n",
      "    accuracy                           0.76        54\n",
      "   macro avg       0.87      0.59      0.58        54\n",
      "weighted avg       0.82      0.76      0.69        54\n",
      "\n",
      "Skor f1: 0.8539325842696629\n",
      "[[ 3 13]\n",
      " [ 0 38]]\n"
     ]
    }
   ],
   "source": [
    "print('Dengan metode MultinomialNB, diperoleh: ')\n",
    "print(classification_report(yts,multinomialPrediksi))\n",
    "print('Skor f1:',f1_score(yts,multinomialPrediksi))\n",
    "print(confusion_matrix(yts,multinomialPrediksi))"
   ]
  },
  {
   "cell_type": "code",
   "execution_count": 24,
   "metadata": {},
   "outputs": [
    {
     "name": "stdout",
     "output_type": "stream",
     "text": [
      "Dengan metode ComplementNB, diperoleh: \n",
      "              precision    recall  f1-score   support\n",
      "\n",
      "           0       0.89      0.50      0.64        16\n",
      "           1       0.82      0.97      0.89        38\n",
      "\n",
      "    accuracy                           0.83        54\n",
      "   macro avg       0.86      0.74      0.77        54\n",
      "weighted avg       0.84      0.83      0.82        54\n",
      "\n",
      "Skor f1: 0.891566265060241\n",
      "[[ 8  8]\n",
      " [ 1 37]]\n"
     ]
    }
   ],
   "source": [
    "print('Dengan metode ComplementNB, diperoleh: ')\n",
    "# print(classification_report(ytr,complementPrediksiTrain))\n",
    "print(classification_report(yts,complementPrediksi))\n",
    "print('Skor f1:',f1_score(yts,complementPrediksi))\n",
    "print(confusion_matrix(yts,complementPrediksi))"
   ]
  },
  {
   "cell_type": "code",
   "execution_count": 25,
   "metadata": {},
   "outputs": [
    {
     "name": "stdout",
     "output_type": "stream",
     "text": [
      "Dengan metode AdaBoostClassifier, diperoleh: \n",
      "              precision    recall  f1-score   support\n",
      "\n",
      "           0       0.61      0.69      0.65        16\n",
      "           1       0.86      0.82      0.84        38\n",
      "\n",
      "    accuracy                           0.78        54\n",
      "   macro avg       0.74      0.75      0.74        54\n",
      "weighted avg       0.79      0.78      0.78        54\n",
      "\n",
      "Skor f1: 0.8378378378378377\n",
      "[[ 8  8]\n",
      " [ 1 37]]\n"
     ]
    }
   ],
   "source": [
    "print('Dengan metode AdaBoostClassifier, diperoleh: ')\n",
    "# print(classification_report(ytr,adaboostPrediksiTrain))\n",
    "print(classification_report(yts,adaboostPrediksi))\n",
    "print('Skor f1:',f1_score(yts,adaboostPrediksi))\n",
    "print(confusion_matrix(yts,complementPrediksi))"
   ]
  },
  {
   "cell_type": "markdown",
   "metadata": {},
   "source": [
    "## MODELING with processing"
   ]
  },
  {
   "cell_type": "code",
   "execution_count": 26,
   "metadata": {},
   "outputs": [
    {
     "name": "stdout",
     "output_type": "stream",
     "text": [
      "(214,)\n",
      "(54,)\n"
     ]
    }
   ],
   "source": [
    "from sklearn.model_selection import train_test_split\n",
    "xtrain,xtest,ytrain,ytest=train_test_split(data['processed'].apply(lambda x:x.lower()),data['LABEL'],\n",
    "    stratify=data['LABEL'],\n",
    "    test_size=0.2, \n",
    "    random_state=420)\n",
    "print(xtrain.shape)\n",
    "print(xtest.shape)"
   ]
  },
  {
   "cell_type": "code",
   "execution_count": 27,
   "metadata": {},
   "outputs": [],
   "source": [
    "\n",
    "multinomialPipeline = Pipeline([\n",
    "    ('cv',CountVectorizer()),\n",
    "    ('classifier',MultinomialNB())\n",
    "])\n",
    "multinomialPipeline.fit(xtrain,ytrain)\n",
    "multinomialPrediksiTrain = multinomialPipeline.predict(xtrain)\n",
    "multinomialPrediksi = multinomialPipeline.predict(xtest)\n",
    "#multinomialPrediksiDev = multinomialPipeline.predict(test['RESPONSE'].apply(lambda x:x.lower()))"
   ]
  },
  {
   "cell_type": "code",
   "execution_count": 28,
   "metadata": {},
   "outputs": [],
   "source": [
    "complementPipeline = Pipeline([\n",
    "    ('cv',CountVectorizer()),\n",
    "    ('classifier',ComplementNB())\n",
    "])\n",
    "complementPipeline.fit(xtrain,ytrain)\n",
    "complementPrediksiTrain = complementPipeline.predict(xtrain)\n",
    "complementPrediksi = complementPipeline.predict(xtest)\n",
    "#complementPrediksiDev = complementPipeline.predict(test['RESPONSE'].apply(lambda x:x.lower()))"
   ]
  },
  {
   "cell_type": "code",
   "execution_count": 29,
   "metadata": {},
   "outputs": [],
   "source": [
    "adaboostPipeline = Pipeline([\n",
    "    ('cv',CountVectorizer()),\n",
    "    ('classifier',AdaBoostClassifier())\n",
    "])\n",
    "adaboostPipeline.fit(xtrain,ytrain)\n",
    "adaboostPrediksiTrain = adaboostPipeline.predict(xtrain)\n",
    "adaboostPrediksi = adaboostPipeline.predict(xtest)\n",
    "#adaboostPrediksiDev = adaboostPipeline.predict(test['RESPONSE'].apply(lambda x:x.lower()))"
   ]
  },
  {
   "cell_type": "code",
   "execution_count": 30,
   "metadata": {},
   "outputs": [
    {
     "name": "stdout",
     "output_type": "stream",
     "text": [
      "[1 0 1 1 1 1 1 1 1 1 1 1 1 1 1 1 1 1 1 1 1 1 1 0 1 1 0 1 1 1 1 0 1 1 1 1 1\n",
      " 1 1 1 1 1 1 1 1 1 1 1 1 1 1 1 1 1]\n",
      "----------------------------------------------------\n",
      "[1 0 1 1 1 0 1 1 1 1 1 1 1 1 1 1 1 0 1 0 0 0 1 0 1 1 0 1 1 1 1 0 0 1 1 0 1\n",
      " 1 1 1 1 1 0 1 1 1 1 1 1 1 0 1 1 1]\n"
     ]
    }
   ],
   "source": [
    "print(multinomialPrediksi)\n",
    "print(\"----------------------------------------------------\")\n",
    "print(complementPrediksi)"
   ]
  },
  {
   "cell_type": "code",
   "execution_count": 31,
   "metadata": {},
   "outputs": [
    {
     "name": "stdout",
     "output_type": "stream",
     "text": [
      " MultinomialNB + wordstop + stemming, diperoleh: \n",
      "              precision    recall  f1-score   support\n",
      "\n",
      "           0       1.00      0.25      0.40        16\n",
      "           1       0.76      1.00      0.86        38\n",
      "\n",
      "    accuracy                           0.78        54\n",
      "   macro avg       0.88      0.62      0.63        54\n",
      "weighted avg       0.83      0.78      0.73        54\n",
      "\n",
      "Skor f1: 0.8636363636363636\n",
      "[[ 4 12]\n",
      " [ 0 38]]\n"
     ]
    }
   ],
   "source": [
    "print(' MultinomialNB + wordstop + stemming, diperoleh: ')\n",
    "print(classification_report(ytest,multinomialPrediksi))\n",
    "print('Skor f1:',f1_score(ytest,multinomialPrediksi))\n",
    "print(confusion_matrix(ytest,multinomialPrediksi))"
   ]
  },
  {
   "cell_type": "code",
   "execution_count": 32,
   "metadata": {},
   "outputs": [
    {
     "name": "stdout",
     "output_type": "stream",
     "text": [
      "ComplementNB + wordstop + stemming, diperoleh: \n",
      "              precision    recall  f1-score   support\n",
      "\n",
      "           0       0.85      0.69      0.76        16\n",
      "           1       0.88      0.95      0.91        38\n",
      "\n",
      "    accuracy                           0.87        54\n",
      "   macro avg       0.86      0.82      0.84        54\n",
      "weighted avg       0.87      0.87      0.87        54\n",
      "\n",
      "Skor f1: 0.9113924050632912\n",
      "[[11  5]\n",
      " [ 2 36]]\n"
     ]
    }
   ],
   "source": [
    "print('ComplementNB + wordstop + stemming, diperoleh: ')\n",
    "# print(classification_report(ytr,complementPrediksiTrain))\n",
    "print(classification_report(ytest,complementPrediksi))\n",
    "print('Skor f1:',f1_score(ytest,complementPrediksi))\n",
    "print(confusion_matrix(ytest,complementPrediksi))"
   ]
  },
  {
   "cell_type": "code",
   "execution_count": 33,
   "metadata": {},
   "outputs": [
    {
     "name": "stdout",
     "output_type": "stream",
     "text": [
      " AdaBoostClassifier + wordstop + stemming, diperoleh: \n",
      "              precision    recall  f1-score   support\n",
      "\n",
      "           0       0.67      0.62      0.65        16\n",
      "           1       0.85      0.87      0.86        38\n",
      "\n",
      "    accuracy                           0.80        54\n",
      "   macro avg       0.76      0.75      0.75        54\n",
      "weighted avg       0.79      0.80      0.79        54\n",
      "\n",
      "Skor f1: 0.8571428571428572\n",
      "[[11  5]\n",
      " [ 2 36]]\n"
     ]
    }
   ],
   "source": [
    "print(' AdaBoostClassifier + wordstop + stemming, diperoleh: ')\n",
    "# print(classification_report(ytr,adaboostPrediksiTrain))\n",
    "print(classification_report(ytest,adaboostPrediksi))\n",
    "print('Skor f1:',f1_score(ytest,adaboostPrediksi))\n",
    "print(confusion_matrix(ytest,complementPrediksi))"
   ]
  },
  {
   "cell_type": "code",
   "execution_count": null,
   "metadata": {},
   "outputs": [],
   "source": []
  }
 ],
 "metadata": {
  "kernelspec": {
   "display_name": "Python 3",
   "language": "python",
   "name": "python3"
  },
  "language_info": {
   "codemirror_mode": {
    "name": "ipython",
    "version": 3
   },
   "file_extension": ".py",
   "mimetype": "text/x-python",
   "name": "python",
   "nbconvert_exporter": "python",
   "pygments_lexer": "ipython3",
   "version": "3.7.3"
  }
 },
 "nbformat": 4,
 "nbformat_minor": 4
}
