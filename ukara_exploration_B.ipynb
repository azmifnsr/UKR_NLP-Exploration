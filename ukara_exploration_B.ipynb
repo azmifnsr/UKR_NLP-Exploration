{
 "cells": [
  {
   "cell_type": "code",
   "execution_count": 2,
   "metadata": {},
   "outputs": [],
   "source": [
    "import numpy as np\n",
    "import pandas as pd\n",
    "import matplotlib.pyplot as plt\n",
    "import seaborn as sns\n",
    "import string\n",
    "from sklearn.feature_extraction.text import CountVectorizer\n",
    "from sklearn.pipeline import Pipeline\n",
    "from sklearn.naive_bayes import ComplementNB\n",
    "from sklearn.naive_bayes import MultinomialNB\n",
    "from sklearn.ensemble import AdaBoostClassifier\n",
    "from sklearn.metrics import classification_report,confusion_matrix,f1_score\n",
    "from PIL import Image\n",
    "from wordcloud import WordCloud, STOPWORDS, ImageColorGenerator"
   ]
  },
  {
   "cell_type": "markdown",
   "metadata": {},
   "source": [
    "## SASTRAWI EXMPL CODE"
   ]
  },
  {
   "cell_type": "code",
   "execution_count": 3,
   "metadata": {},
   "outputs": [
    {
     "data": {
      "text/plain": [
       "'ekonomi indonesia sedang dalam tumbuh yang bangga'"
      ]
     },
     "execution_count": 3,
     "metadata": {},
     "output_type": "execute_result"
    }
   ],
   "source": [
    "# import Sastrawi package\n",
    "from Sastrawi.Stemmer.StemmerFactory import StemmerFactory\n",
    "stemmer = StemmerFactory().create_stemmer()\n",
    "sentence = 'Perekonomian Indonesia sedang dalam pertumbuhan/yang membanggakan'\n",
    "stemmer.stem(sentence)"
   ]
  },
  {
   "cell_type": "code",
   "execution_count": 4,
   "metadata": {},
   "outputs": [
    {
     "data": {
      "text/plain": [
       "'Dengan Menggunakan Python Library Sastrawi dapat melakukan proses Stopword Removal'"
      ]
     },
     "execution_count": 4,
     "metadata": {},
     "output_type": "execute_result"
    }
   ],
   "source": [
    "from Sastrawi.StopWordRemover.StopWordRemoverFactory import StopWordRemoverFactory\n",
    "kalimat = 'Dengan Menggunakan Python dan Library Sastrawi saya dapat melakukan proses Stopword Removal'\n",
    "swdel = StopWordRemoverFactory().create_stop_word_remover()\n",
    "swdel.remove(kalimat)"
   ]
  },
  {
   "cell_type": "markdown",
   "metadata": {},
   "source": [
    "## TYPO CORRECTION\n",
    "from http://www.yasirblog.com/2017/07/spell-checker-pengecekan-ejaan-untuk-deteksi-perbaikan-typo-bahasa-indonesia.html"
   ]
  },
  {
   "cell_type": "code",
   "execution_count": 106,
   "metadata": {},
   "outputs": [
    {
     "name": "stdout",
     "output_type": "stream",
     "text": [
      "kata typo :  mkan\n",
      "koreksi :  akan\n"
     ]
    }
   ],
   "source": [
    "import re\n",
    "from collections import Counter\n",
    "\n",
    "def words(text): return re.findall(r'\\w+', text.lower())\n",
    "\n",
    "WORDS = Counter(words(open('katadasar.txt').read()))\n",
    "\n",
    "def P(word, N=sum(WORDS.values())): \n",
    "    # \"Probability of `word`.\"\n",
    "    return WORDS[word] / N\n",
    "\n",
    "def correction(word): \n",
    "    # \"Most probable spelling correction for word.\"\n",
    "    return max(candidates(word), key=P)\n",
    "\n",
    "def candidates(word): \n",
    "    # \"Generate possible spelling corrections for word.\"\n",
    "    return (known([word]) or known(edits1(word)) or known(edits2(word)) or [word])\n",
    "\n",
    "def known(words): \n",
    "    # \"The subset of `words` that appear in the dictionary of WORDS.\"\n",
    "    return set(w for w in words if w in WORDS)\n",
    "\n",
    "def edits1(word):\n",
    "    # \"All edits that are one edit away from `word`.\"\n",
    "    letters    = 'abcdefghijklmnopqrstuvwxyz'\n",
    "    splits     = [(word[:i], word[i:])    for i in range(len(word) + 1)] # [('', 'kemarin'), ('k', 'emarin'), ('ke', 'marin'), dst]\n",
    "    deletes    = [L + R[1:]               for L, R in splits if R] # ['emarin', 'kmarin', 'kearin', dst]\n",
    "    transposes = [L + R[1] + R[0] + R[2:] for L, R in splits if len(R)>1] # ['ekmarin', 'kmearin', 'keamrin', dst]\n",
    "    replaces   = [L + c + R[1:]           for L, R in splits if R for c in letters] # ['aemarin', 'bemarin', 'cemarin', dst]\n",
    "    inserts    = [L + c + R               for L, R in splits for c in letters] # ['akemarin', 'bkemarin', 'ckemarin', dst]\n",
    "    return set(deletes + transposes + replaces + inserts)\n",
    "\n",
    "def edits2(word): \n",
    "    # \"All edits that are two edits away from `word`.\"\n",
    "    return (e2 for e1 in edits1(word) for e2 in edits1(e1))\n",
    "#check typo dalam kalimat\n",
    "def checktypo(string):\n",
    "    string = str(string)\n",
    "    listword = string.split()\n",
    "    index=0\n",
    "    for word in string.split():\n",
    "        listword[index]=correction(word)\n",
    "        index = index+1\n",
    "    newstr = ' '.join(word for word in listword)\n",
    "    return (newstr)\n",
    "\n",
    "kata = 'mkan'\n",
    "print('kata typo : ', kata)\n",
    "print('koreksi : ', correction(kata))"
   ]
  },
  {
   "cell_type": "code",
   "execution_count": 108,
   "metadata": {},
   "outputs": [
    {
     "data": {
      "text/plain": [
       "'karena orang lebih suka menyumbang'"
      ]
     },
     "execution_count": 108,
     "metadata": {},
     "output_type": "execute_result"
    }
   ],
   "source": [
    "checktypo('karna orang lebih suka menyumbang')"
   ]
  },
  {
   "cell_type": "markdown",
   "metadata": {},
   "source": [
    "### Try KBBI"
   ]
  },
  {
   "cell_type": "code",
   "execution_count": 48,
   "metadata": {},
   "outputs": [
    {
     "name": "stdout",
     "output_type": "stream",
     "text": [
      "not in kbbi\n"
     ]
    }
   ],
   "source": [
    "from kbbi import KBBI\n",
    "string = 'asdf'\n",
    "try:\n",
    "    print(KBBI(string))\n",
    "except:\n",
    "    print('not in kbbi')"
   ]
  },
  {
   "cell_type": "markdown",
   "metadata": {},
   "source": [
    "### START DATA EXPLORATION"
   ]
  },
  {
   "cell_type": "code",
   "execution_count": 110,
   "metadata": {},
   "outputs": [
    {
     "name": "stdout",
     "output_type": "stream",
     "text": [
      "305\n",
      "       RES_ID  RESPONSE\n",
      "LABEL                  \n",
      "0         137       137\n",
      "1         168       168\n"
     ]
    },
    {
     "data": {
      "text/html": [
       "<div>\n",
       "<style scoped>\n",
       "    .dataframe tbody tr th:only-of-type {\n",
       "        vertical-align: middle;\n",
       "    }\n",
       "\n",
       "    .dataframe tbody tr th {\n",
       "        vertical-align: top;\n",
       "    }\n",
       "\n",
       "    .dataframe thead th {\n",
       "        text-align: right;\n",
       "    }\n",
       "</style>\n",
       "<table border=\"1\" class=\"dataframe\">\n",
       "  <thead>\n",
       "    <tr style=\"text-align: right;\">\n",
       "      <th></th>\n",
       "      <th>RES_ID</th>\n",
       "      <th>RESPONSE</th>\n",
       "      <th>LABEL</th>\n",
       "    </tr>\n",
       "  </thead>\n",
       "  <tbody>\n",
       "    <tr>\n",
       "      <th>0</th>\n",
       "      <td>TRB1</td>\n",
       "      <td>Karena orang berpikir bahwa jika disumbangkan ...</td>\n",
       "      <td>1</td>\n",
       "    </tr>\n",
       "    <tr>\n",
       "      <th>1</th>\n",
       "      <td>TRB2</td>\n",
       "      <td>Pakaian awet adalah alternatif terhadap Fast F...</td>\n",
       "      <td>0</td>\n",
       "    </tr>\n",
       "    <tr>\n",
       "      <th>2</th>\n",
       "      <td>TRB3</td>\n",
       "      <td>karna orang lebih suka menyumbang</td>\n",
       "      <td>1</td>\n",
       "    </tr>\n",
       "    <tr>\n",
       "      <th>3</th>\n",
       "      <td>TRB4</td>\n",
       "      <td>karana harga nya terjangkau dan pas.</td>\n",
       "      <td>0</td>\n",
       "    </tr>\n",
       "    <tr>\n",
       "      <th>4</th>\n",
       "      <td>TRB5</td>\n",
       "      <td>kerena harganya mahal .</td>\n",
       "      <td>0</td>\n",
       "    </tr>\n",
       "  </tbody>\n",
       "</table>\n",
       "</div>"
      ],
      "text/plain": [
       "  RES_ID                                           RESPONSE  LABEL\n",
       "0   TRB1  Karena orang berpikir bahwa jika disumbangkan ...      1\n",
       "1   TRB2  Pakaian awet adalah alternatif terhadap Fast F...      0\n",
       "2   TRB3                  karna orang lebih suka menyumbang      1\n",
       "3   TRB4               karana harga nya terjangkau dan pas.      0\n",
       "4   TRB5                            kerena harganya mahal .      0"
      ]
     },
     "execution_count": 110,
     "metadata": {},
     "output_type": "execute_result"
    }
   ],
   "source": [
    "data=pd.read_csv('UKARA DATA B/Data B/data_train_B.csv')\n",
    "print(len(data))\n",
    "print(data.groupby(data['LABEL']).count())\n",
    "data.head()"
   ]
  },
  {
   "cell_type": "code",
   "execution_count": 111,
   "metadata": {},
   "outputs": [
    {
     "data": {
      "text/plain": [
       "RES_ID      object\n",
       "RESPONSE    object\n",
       "LABEL        int64\n",
       "dtype: object"
      ]
     },
     "execution_count": 111,
     "metadata": {},
     "output_type": "execute_result"
    }
   ],
   "source": [
    "data.dtypes"
   ]
  },
  {
   "cell_type": "code",
   "execution_count": 112,
   "metadata": {},
   "outputs": [
    {
     "data": {
      "text/plain": [
       "Text(0.5, 1.0, 'count label')"
      ]
     },
     "execution_count": 112,
     "metadata": {},
     "output_type": "execute_result"
    },
    {
     "data": {
      "image/png": "[encoded data removed]",
      "text/plain": [
       "<Figure size 432x288 with 1 Axes>"
      ]
     },
     "metadata": {
      "needs_background": "light"
     },
     "output_type": "display_data"
    }
   ],
   "source": [
    "sns.countplot(data['LABEL'])\n",
    "plt.xlabel('Label')\n",
    "plt.title('count label')"
   ]
  },
  {
   "cell_type": "code",
   "execution_count": 113,
   "metadata": {},
   "outputs": [
    {
     "name": "stdout",
     "output_type": "stream",
     "text": [
      "There are 29991 words in the combination of all review.\n"
     ]
    },
    {
     "data": {
      "image/png": "[encoded data removed]",
      "text/plain": [
       "<Figure size 432x288 with 1 Axes>"
      ]
     },
     "metadata": {
      "needs_background": "light"
     },
     "output_type": "display_data"
    }
   ],
   "source": [
    "text = \" \".join(review for review in data.RESPONSE)\n",
    "print (\"There are {} words in the combination of all review.\".format(len(text)))\n",
    "wordcloud = WordCloud(max_font_size=50, max_words=100, background_color=\"white\").generate(text)\n",
    "plt.figure()\n",
    "plt.imshow(wordcloud, interpolation=\"bilinear\")\n",
    "plt.axis(\"off\")\n",
    "plt.show()"
   ]
  },
  {
   "cell_type": "code",
   "execution_count": 114,
   "metadata": {},
   "outputs": [
    {
     "data": {
      "text/plain": [
       "[('karena', 172),\n",
       " ('yang', 167),\n",
       " ('pakaian', 149),\n",
       " ('lebih', 134),\n",
       " ('untuk', 102),\n",
       " ('dan', 94),\n",
       " ('menyumbang', 65),\n",
       " ('kondisi', 65),\n",
       " ('di', 65),\n",
       " ('produksi', 60)]"
      ]
     },
     "execution_count": 114,
     "metadata": {},
     "output_type": "execute_result"
    }
   ],
   "source": [
    "from collections import Counter\n",
    "cnt = Counter()\n",
    "for text in data[\"RESPONSE\"].values:\n",
    "    for word in text.split():\n",
    "        cnt[word] += 1\n",
    "        \n",
    "cnt.most_common(10)"
   ]
  },
  {
   "cell_type": "markdown",
   "metadata": {},
   "source": [
    "## PREP DATA"
   ]
  },
  {
   "cell_type": "code",
   "execution_count": 115,
   "metadata": {},
   "outputs": [
    {
     "data": {
      "text/html": [
       "<div>\n",
       "<style scoped>\n",
       "    .dataframe tbody tr th:only-of-type {\n",
       "        vertical-align: middle;\n",
       "    }\n",
       "\n",
       "    .dataframe tbody tr th {\n",
       "        vertical-align: top;\n",
       "    }\n",
       "\n",
       "    .dataframe thead th {\n",
       "        text-align: right;\n",
       "    }\n",
       "</style>\n",
       "<table border=\"1\" class=\"dataframe\">\n",
       "  <thead>\n",
       "    <tr style=\"text-align: right;\">\n",
       "      <th></th>\n",
       "      <th>RES_ID</th>\n",
       "      <th>RESPONSE</th>\n",
       "      <th>LABEL</th>\n",
       "      <th>processed</th>\n",
       "    </tr>\n",
       "  </thead>\n",
       "  <tbody>\n",
       "    <tr>\n",
       "      <th>0</th>\n",
       "      <td>TRB1</td>\n",
       "      <td>Karena orang berpikir bahwa jika disumbangkan ...</td>\n",
       "      <td>1</td>\n",
       "      <td>karena orang berpikir bahwa jika disumbangkan ...</td>\n",
       "    </tr>\n",
       "    <tr>\n",
       "      <th>1</th>\n",
       "      <td>TRB2</td>\n",
       "      <td>Pakaian awet adalah alternatif terhadap Fast F...</td>\n",
       "      <td>0</td>\n",
       "      <td>pakaian awet adalah alternatif terhadap fast f...</td>\n",
       "    </tr>\n",
       "    <tr>\n",
       "      <th>2</th>\n",
       "      <td>TRB3</td>\n",
       "      <td>karna orang lebih suka menyumbang</td>\n",
       "      <td>1</td>\n",
       "      <td>karna orang lebih suka menyumbang</td>\n",
       "    </tr>\n",
       "    <tr>\n",
       "      <th>3</th>\n",
       "      <td>TRB4</td>\n",
       "      <td>karana harga nya terjangkau dan pas.</td>\n",
       "      <td>0</td>\n",
       "      <td>karana harga nya terjangkau dan pas.</td>\n",
       "    </tr>\n",
       "    <tr>\n",
       "      <th>4</th>\n",
       "      <td>TRB5</td>\n",
       "      <td>kerena harganya mahal .</td>\n",
       "      <td>0</td>\n",
       "      <td>kerena harganya mahal .</td>\n",
       "    </tr>\n",
       "  </tbody>\n",
       "</table>\n",
       "</div>"
      ],
      "text/plain": [
       "  RES_ID                                           RESPONSE  LABEL  \\\n",
       "0   TRB1  Karena orang berpikir bahwa jika disumbangkan ...      1   \n",
       "1   TRB2  Pakaian awet adalah alternatif terhadap Fast F...      0   \n",
       "2   TRB3                  karna orang lebih suka menyumbang      1   \n",
       "3   TRB4               karana harga nya terjangkau dan pas.      0   \n",
       "4   TRB5                            kerena harganya mahal .      0   \n",
       "\n",
       "                                           processed  \n",
       "0  karena orang berpikir bahwa jika disumbangkan ...  \n",
       "1  pakaian awet adalah alternatif terhadap fast f...  \n",
       "2                  karna orang lebih suka menyumbang  \n",
       "3               karana harga nya terjangkau dan pas.  \n",
       "4                            kerena harganya mahal .  "
      ]
     },
     "execution_count": 115,
     "metadata": {},
     "output_type": "execute_result"
    }
   ],
   "source": [
    "data['processed'] = data['RESPONSE'].str.lower()\n",
    "data.head()"
   ]
  },
  {
   "cell_type": "code",
   "execution_count": 116,
   "metadata": {},
   "outputs": [
    {
     "name": "stderr",
     "output_type": "stream",
     "text": [
      "C:\\Users\\iykmuham0008\\AppData\\Local\\Continuum\\anaconda3\\lib\\site-packages\\ipykernel_launcher.py:10: SettingWithCopyWarning: \n",
      "A value is trying to be set on a copy of a slice from a DataFrame\n",
      "\n",
      "See the caveats in the documentation: http://pandas.pydata.org/pandas-docs/stable/indexing.html#indexing-view-versus-copy\n",
      "  # Remove the CWD from sys.path while we load stuff.\n",
      "C:\\Users\\iykmuham0008\\AppData\\Local\\Continuum\\anaconda3\\lib\\site-packages\\ipykernel_launcher.py:15: SettingWithCopyWarning: \n",
      "A value is trying to be set on a copy of a slice from a DataFrame\n",
      "\n",
      "See the caveats in the documentation: http://pandas.pydata.org/pandas-docs/stable/indexing.html#indexing-view-versus-copy\n",
      "  from ipykernel import kernelapp as app\n",
      "C:\\Users\\iykmuham0008\\AppData\\Local\\Continuum\\anaconda3\\lib\\site-packages\\ipykernel_launcher.py:20: SettingWithCopyWarning: \n",
      "A value is trying to be set on a copy of a slice from a DataFrame\n",
      "\n",
      "See the caveats in the documentation: http://pandas.pydata.org/pandas-docs/stable/indexing.html#indexing-view-versus-copy\n"
     ]
    },
    {
     "data": {
      "text/html": [
       "<div>\n",
       "<style scoped>\n",
       "    .dataframe tbody tr th:only-of-type {\n",
       "        vertical-align: middle;\n",
       "    }\n",
       "\n",
       "    .dataframe tbody tr th {\n",
       "        vertical-align: top;\n",
       "    }\n",
       "\n",
       "    .dataframe thead th {\n",
       "        text-align: right;\n",
       "    }\n",
       "</style>\n",
       "<table border=\"1\" class=\"dataframe\">\n",
       "  <thead>\n",
       "    <tr style=\"text-align: right;\">\n",
       "      <th></th>\n",
       "      <th>RES_ID</th>\n",
       "      <th>RESPONSE</th>\n",
       "      <th>LABEL</th>\n",
       "      <th>processed</th>\n",
       "    </tr>\n",
       "  </thead>\n",
       "  <tbody>\n",
       "    <tr>\n",
       "      <th>0</th>\n",
       "      <td>TRB1</td>\n",
       "      <td>Karena orang berpikir bahwa jika disumbangkan ...</td>\n",
       "      <td>1</td>\n",
       "      <td>orang pikir jika sumbang buat produksi pakai j...</td>\n",
       "    </tr>\n",
       "    <tr>\n",
       "      <th>1</th>\n",
       "      <td>TRB2</td>\n",
       "      <td>Pakaian awet adalah alternatif terhadap Fast F...</td>\n",
       "      <td>0</td>\n",
       "      <td>pakai awet alternatif hadap fast fashion pakai...</td>\n",
       "    </tr>\n",
       "    <tr>\n",
       "      <th>2</th>\n",
       "      <td>TRB3</td>\n",
       "      <td>karna orang lebih suka menyumbang</td>\n",
       "      <td>1</td>\n",
       "      <td>orang lebih suka sumbang</td>\n",
       "    </tr>\n",
       "    <tr>\n",
       "      <th>3</th>\n",
       "      <td>TRB4</td>\n",
       "      <td>karana harga nya terjangkau dan pas.</td>\n",
       "      <td>0</td>\n",
       "      <td>harga nya jangkau pas</td>\n",
       "    </tr>\n",
       "    <tr>\n",
       "      <th>4</th>\n",
       "      <td>TRB5</td>\n",
       "      <td>kerena harganya mahal .</td>\n",
       "      <td>0</td>\n",
       "      <td>harga mahal</td>\n",
       "    </tr>\n",
       "  </tbody>\n",
       "</table>\n",
       "</div>"
      ],
      "text/plain": [
       "  RES_ID                                           RESPONSE  LABEL  \\\n",
       "0   TRB1  Karena orang berpikir bahwa jika disumbangkan ...      1   \n",
       "1   TRB2  Pakaian awet adalah alternatif terhadap Fast F...      0   \n",
       "2   TRB3                  karna orang lebih suka menyumbang      1   \n",
       "3   TRB4               karana harga nya terjangkau dan pas.      0   \n",
       "4   TRB5                            kerena harganya mahal .      0   \n",
       "\n",
       "                                           processed  \n",
       "0  orang pikir jika sumbang buat produksi pakai j...  \n",
       "1  pakai awet alternatif hadap fast fashion pakai...  \n",
       "2                           orang lebih suka sumbang  \n",
       "3                              harga nya jangkau pas  \n",
       "4                                        harga mahal  "
      ]
     },
     "execution_count": 116,
     "metadata": {},
     "output_type": "execute_result"
    }
   ],
   "source": [
    "from Sastrawi.Stemmer.StemmerFactory import StemmerFactory\n",
    "from Sastrawi.StopWordRemover.StopWordRemoverFactory import StopWordRemoverFactory\n",
    "\n",
    "stemmer = StemmerFactory().create_stemmer()\n",
    "swdel = StopWordRemoverFactory().create_stop_word_remover()\n",
    "\n",
    "#insert typos correction here\n",
    "tmp = 0 #row index\n",
    "for row in data['processed']:\n",
    "    data['processed'][tmp] = checktypo(row)\n",
    "    tmp = tmp+1\n",
    "\n",
    "tmp = 0 #row index\n",
    "for row in data['processed']:\n",
    "    data['processed'][tmp] = stemmer.stem(row)\n",
    "    tmp = tmp+1\n",
    "    \n",
    "tmp = 0 #row index\n",
    "for row in data['processed']:\n",
    "    data['processed'][tmp] = swdel.remove(row)\n",
    "    tmp = tmp+1\n",
    "    \n",
    "data.head()"
   ]
  },
  {
   "cell_type": "code",
   "execution_count": 117,
   "metadata": {},
   "outputs": [
    {
     "name": "stdout",
     "output_type": "stream",
     "text": [
      "0                                                                                                                                                                                      orang pikir jika sumbang buat produksi pakai jadi lebih etika\n",
      "1    pakai awet alternatif hadap fast fashion pakai awet lebih mahal biaya produksi harga beli karena pakai buat tahan lebih lama buang buat jadi lebih sedikit bagai konsumen tolak tren fast fashion beli pakai buang lebih awet buat sesuai etika\n",
      "2                                                                                                                                                                                                                           orang lebih suka sumbang\n",
      "3                                                                                                                                                                                                                              harga nya jangkau pas\n",
      "4                                                                                                                                                                                                                                        harga mahal\n",
      "Name: processed, dtype: object\n",
      "300                                                                                                                                         buah mesin jual lin tawar kaus putih harga 2 euro sekitar rp30 000\n",
      "301    lihat kondisi kerja pabrik pakai buang kesan buang baik mereka lebih pilih sumbang uang buat produksi pakai lebih etika banding depan bel buang malah buat tanda tuju apresiasi depan kondisi kerja ini\n",
      "302                                                                                                                                                                        buang sumbang pakai buang tak pakai\n",
      "303                                                                                                                                                                        lebih baik tangan atas tangan bawah\n",
      "304                                                                                                                                                        sumbang 2 euro sebut bagai upayauntuk buat produksi\n",
      "Name: processed, dtype: object\n"
     ]
    }
   ],
   "source": [
    "with pd.option_context('display.max_rows', 999,'display.max_colwidth', 999):\n",
    "    print(data['processed'].head())\n",
    "    print(data['processed'].tail())\n",
    "    #print(data['processed'])"
   ]
  },
  {
   "cell_type": "code",
   "execution_count": 118,
   "metadata": {},
   "outputs": [
    {
     "name": "stdout",
     "output_type": "stream",
     "text": [
      "[('buang', 221), ('pakai', 214), ('lebih', 142), ('sumbang', 123), ('etika', 89), ('kerja', 87), ('depan', 76), ('buat', 74), ('produksi', 68), ('jadi', 66), ('kondisi', 66), ('pabrik', 63), ('orang', 57), ('baik', 55), ('sebut', 52), ('buah', 45), ('konsumen', 43), ('banyak', 34), ('beli', 31), ('mereka', 31), ('akan', 30), ('lihat', 26), ('upaya', 26), ('layak', 25), ('bagai', 24), ('2', 23), ('euro', 23), ('pilih', 22), ('kaus', 22), ('fashion', 21), ('harga', 21), ('untuk', 21), ('bantu', 20), ('butuh', 20), ('mungkin', 17), ('pahala', 17), ('kurang', 17), ('beri', 17), ('tidak', 17), ('sangat', 16), ('sampah', 16), ('gambar', 15), ('fast', 14), ('yg', 14), ('kejut', 14), ('dari', 13), ('turut', 13), ('manfaat', 12), ('tampil', 12), ('jika', 11), ('awet', 11), ('kita', 11), ('hadap', 10), ('lama', 10), ('bisa', 10), ('bagus', 10), ('rasa', 10), ('di', 10), ('upah', 10), ('kasihan', 9), ('sama', 9), ('lingkung', 9), ('cara', 9), ('putih', 9), ('tahan', 8), ('sesuai', 8), ('baju', 8), ('masyarakat', 8), ('mampu', 8), ('pada', 8), ('murah', 8), ('layar', 8), ('jual', 8), ('tawar', 8), ('nya', 7), ('itu', 7), ('polusi', 7), ('mesin', 7), ('sedikit', 6), ('tren', 6), ('uang', 6), ('tempat', 6), ('dapat', 6), ('rupa', 6), ('satu', 6), ('biasa', 6), ('lin', 6), ('sekitar', 6), ('rp30', 6), ('000', 6), ('mahal', 5), ('karena', 5), ('suka', 5), ('dia', 5), ('buruk', 5), ('lanjut', 5), ('prinsip', 5), ('luar', 5), ('terima', 5), ('baru', 5), ('para', 5), ('banding', 5), ('penuh', 5), ('amal', 5), ('eksperiman', 5), ('pikir', 4), ('alternatif', 4), ('biaya', 4), ('tolak', 4), ('punya', 4), ('milik', 4), ('sudah', 4), ('prihatin', 4), ('laku', 4), ('sedang', 4), ('terlalu', 4), ('peduli', 4), ('hasil', 4), ('suatu', 4), ('tahu', 4), ('tak', 4), ('usaha', 4), ('kalo', 4), ('guna', 4), ('semua', 4), ('salah', 4), ('belum', 4), ('ingin', 3), ('harus', 3), ('masuk', 3), ('miskin', 3), ('sadar', 3), ('dalam', 3), ('bel', 3), ('besar', 3), ('sana', 3), ('pasti', 3), ('air', 3), ('ganggu', 3), ('kalau', 3), ('tingkat', 3), ('kualitas', 3), ('produk', 3), ('tolong', 3), ('susah', 3), ('hal', 3), ('bagaimana', 3), ('ubah', 3), ('produsen', 3), ('ganti', 3), ('mode', 3), ('tambah', 3), ('negara', 3), ('bagi', 3), ('ibadah', 3), ('perlu', 2), ('pegawai', 2), ('wajib', 2), ('giat', 2), ('cukup', 2), ('hati', 2), ('ikhlas', 2), ('masalah', 2), ('cuma', 2), ('makin', 2), ('harap', 2), ('telah', 2), ('hanya', 2), ('allah', 2), ('sedekah', 2), ('kecil', 2), ('apabila', 2), ('limbah', 2), ('kasi', 2), ('saling', 2), ('da', 2), ('9', 2), ('10', 2), ('seperti', 2), ('dana', 2), ('masih', 2), ('tuju', 2), ('timpal', 2), ('kaos', 2), ('daripada', 2), ('prokduksi', 2), ('ny', 2), ('makanya', 2), ('mudah', 2), ('mati', 2), ('dukung', 2), ('tega', 2), ('gaji', 2), ('sayang', 2), ('kasih', 2), ('puji', 2), ('sembilan', 2), ('puluh', 2), ('tiap', 2), ('tahun', 2), ('muat', 2), ('pantas', 2), ('bawah', 2), ('proses', 2), ('nyaman', 2), ('bahwa', 2), ('manusia', 2), ('boros', 2), ('biar', 2), ('berfikir', 2), ('malah', 2), ('ia', 2), ('dapet', 2), ('jumlah', 2), ('senang', 2), ('alia', 2), ('temu', 2), ('tangan', 2), ('jangkau', 1), ('pas', 1), ('pribadi', 1), ('bangkrut', 1), ('ber', 1), ('utama', 1), ('banting', 1), ('hari', 1), ('denga', 1), ('sodaqoh', 1), ('bari', 1), ('hemat', 1), ('mau', 1), ('bererja', 1), ('mubasir', 1), ('t', 1), ('sumumbangkan', 1), ('ketika', 1), ('begtu', 1), ('prodeuksi', 1), ('pakir', 1), ('operasi', 1), ('toko', 1), ('complete', 1), ('bnyak', 1), ('smapah', 1), ('bosan', 1), ('kategori', 1), ('terseebut', 1), ('parik', 1), ('rizki', 1), ('jauh', 1), ('sebab', 1), ('niat', 1), ('tinggi', 1), ('simpat', 1), ('pabrib', 1), ('alas', 1), ('sepenuh', 1), ('tapi', 1), ('istilah', 1), ('aripada', 1), ('gun', 1), ('mulia', 1), ('kimia', 1), ('sehat', 1), ('memilioh', 1), ('simpan', 1), ('bekal', 1), ('surga', 1), ('menyumangkan', 1), ('yatim', 1), ('ke', 1), ('panti', 1), ('asuh', 1), ('depa', 1), ('muas', 1), ('erti', 1), ('iba', 1), ('mengiklaskan', 1), ('sia', 1), ('sbg', 1), ('rugi', 1), ('karyawan', 1), ('lemari', 1), ('tdk', 1), ('baung', 1), ('kpda', 1), ('diapakai', 1), ('kebaya', 1), ('taruh', 1), ('kelak', 1), ('prodouksi', 1), ('subuah', 1), ('menjad', 1), ('turang', 1), ('rendah', 1), ('produktivitas', 1), ('saja', 1), ('menyumabng', 1), ('akhir', 1), ('betapa', 1), ('akibat', 1), ('pembuatannnya', 1), ('langsung', 1), ('nyata', 1), ('berateka', 1), ('pembuatanya', 1), ('etik', 1), ('sun', 1), ('iyu', 1), ('bentuk', 1), ('ajar', 1), ('agaama', 1), ('tindak', 1), ('infestasi', 1), ('bersih', 1), ('lengkap', 1), ('tetap', 1), ('dan', 1), ('rubah', 1), ('lagipula', 1), ('bukan', 1), ('rela', 1), ('benah', 1), ('selain', 1), ('nomor', 1), ('1', 1), ('diabuang', 1), ('cocok', 1), ('makhluk', 1), ('sosial', 1), ('akaian-pakaian', 1), ('fas', 1), ('menyumbangknnya', 1), ('sambung', 1), ('gampang', 1), ('putus', 1), ('sumba', 1), ('munkin', 1), ('mwngahargai', 1), ('usah', 1), ('karenakasian', 1), ('meemas', 1), ('pejerja', 1), ('sum', 1), ('kitaharu', 1), ('pentinng', 1), ('budaya', 1), ('kelas', 1), ('sodakoh', 1), ('memprehatinkan', 1), ('indah', 1), ('tuhan', 1), ('maha', 1), ('esa', 1), ('tunjuk', 1), ('terus', 1), ('tumpu', 1), ('jihydgsjdisadusdtgwtsfdhs', 1), ('tentu', 1), ('rejeki', 1), ('datang', 1), ('perusaahan', 1), ('barang', 1), ('rezeki', 1), ('kankondisi', 1), ('perihatin', 1), ('pekerjaklarena', 1), ('tetapi', 1), ('bisda', 1), ('sekaligus', 1), ('bilang', 1), ('efektif', 1), ('laris', 1), ('berjuaalan', 1), ('saat', 1), ('memyumbang', 1), ('khawatir', 1), ('ikan', 1), ('menmbah', 1), ('ketenmpat', 1), ('berbut', 1), ('islam', 1), ('denggan', 1), ('ati', 1), ('dengaan', 1), ('pahal', 1), ('berlipakkn', 1), ('gnda', 1), ('bermanfat', 1), ('hidup', 1), ('mending', 1), ('jamin', 1), ('produktifitas', 1), ('belanja', 1), ('bahan', 1), ('pakaianawetlebihmahal', 1), ('sejahtera', 1), ('lindung', 1), ('gar', 1), ('dimaanfaatkan', 1), ('sub', 1), ('mebel', 1), ('alami', 1), ('lah', 1), ('lapor', 1), ('isu', 1), ('kait', 1), ('konsumsi', 1), ('teliti', 1), ('informasi', 1), ('blog', 1), ('jangka', 1), ('pendek', 1), ('arti', 1), ('sering', 1), ('dampak', 1), ('negatif', 1), ('ikut', 1), ('tiga', 1), ('penting', 1), ('saudara', 1), ('milih', 1), ('kembali', 1), ('empati', 1), ('adalah', 1), ('positif', 1), ('raka', 1), ('memdapatkan', 1), ('supaya', 1), ('kesan', 1), ('tanda', 1), ('apresiasi', 1), ('ini', 1), ('atas', 1), ('upayauntuk', 1)]\n"
     ]
    }
   ],
   "source": [
    "from collections import Counter\n",
    "cnt = Counter()\n",
    "for text in data[\"processed\"].values:\n",
    "    for word in text.split():\n",
    "        cnt[word] += 1\n",
    "        \n",
    "print(cnt.most_common(999))"
   ]
  },
  {
   "cell_type": "code",
   "execution_count": 120,
   "metadata": {},
   "outputs": [
    {
     "data": {
      "text/plain": [
       "'karena harganya mahal'"
      ]
     },
     "execution_count": 120,
     "metadata": {},
     "output_type": "execute_result"
    }
   ],
   "source": [
    "checktypo('kerena harganya mahal')"
   ]
  },
  {
   "cell_type": "markdown",
   "metadata": {},
   "source": [
    "## MODELING without processing"
   ]
  },
  {
   "cell_type": "code",
   "execution_count": 121,
   "metadata": {},
   "outputs": [
    {
     "name": "stdout",
     "output_type": "stream",
     "text": [
      "(244,)\n",
      "(61,)\n"
     ]
    }
   ],
   "source": [
    "from sklearn.model_selection import train_test_split\n",
    "xtr,xts,ytr,yts=train_test_split(data['RESPONSE'].apply(lambda x:x.lower()),data['LABEL'],\n",
    "    stratify=data['LABEL'],\n",
    "    test_size=0.2, \n",
    "    random_state=420)\n",
    "print(xtr.shape)\n",
    "print(xts.shape)"
   ]
  },
  {
   "cell_type": "code",
   "execution_count": 122,
   "metadata": {},
   "outputs": [],
   "source": [
    "test=pd.read_csv('UKARA DATA A/Data A/data_dev_A.csv')\n",
    "#print(np.array(test['RESPONSE']).reshape(len(test['RESPONSE']),1))"
   ]
  },
  {
   "cell_type": "code",
   "execution_count": 123,
   "metadata": {},
   "outputs": [],
   "source": [
    "\n",
    "multinomialPipeline = Pipeline([\n",
    "    ('cv',CountVectorizer()),\n",
    "    ('classifier',MultinomialNB())\n",
    "])\n",
    "multinomialPipeline.fit(xtr,ytr)\n",
    "multinomialPrediksiTrain = multinomialPipeline.predict(xtr)\n",
    "multinomialPrediksi = multinomialPipeline.predict(xts)\n",
    "multinomialPrediksiDev = multinomialPipeline.predict(test['RESPONSE'].apply(lambda x:x.lower()))"
   ]
  },
  {
   "cell_type": "code",
   "execution_count": 124,
   "metadata": {},
   "outputs": [],
   "source": [
    "complementPipeline = Pipeline([\n",
    "    ('cv',CountVectorizer()),\n",
    "    ('classifier',ComplementNB())\n",
    "])\n",
    "complementPipeline.fit(xtr,ytr)\n",
    "complementPrediksiTrain = complementPipeline.predict(xtr)\n",
    "complementPrediksi = complementPipeline.predict(xts)\n",
    "complementPrediksiDev = complementPipeline.predict(test['RESPONSE'].apply(lambda x:x.lower()))"
   ]
  },
  {
   "cell_type": "code",
   "execution_count": 125,
   "metadata": {},
   "outputs": [],
   "source": [
    "adaboostPipeline = Pipeline([\n",
    "    ('cv',CountVectorizer()),\n",
    "    ('classifier',AdaBoostClassifier())\n",
    "])\n",
    "adaboostPipeline.fit(xtr,ytr)\n",
    "adaboostPrediksiTrain = adaboostPipeline.predict(xtr)\n",
    "adaboostPrediksi = adaboostPipeline.predict(xts)\n",
    "adaboostPrediksiDev = adaboostPipeline.predict(test['RESPONSE'].apply(lambda x:x.lower()))"
   ]
  },
  {
   "cell_type": "code",
   "execution_count": 126,
   "metadata": {},
   "outputs": [
    {
     "name": "stdout",
     "output_type": "stream",
     "text": [
      "[1 1 1 1 1 1 1 0 0 1 1 1 0 0 1 0 1 1 0 1 0 1 0 1 0 0 1 0 1 1 1 0 0 1 1 1 1\n",
      " 0 0 1 0 0 1 1 1 1 1 1 1 0 1 1 0 1 1 1 1 1 1 1 1]\n",
      "----------------------------------------------------\n",
      "[0 1 1 1 1 1 1 0 0 1 1 1 0 0 1 0 1 1 0 1 0 1 0 1 0 0 1 0 1 1 1 0 0 1 1 1 1\n",
      " 0 0 0 0 0 1 1 1 1 1 1 1 0 1 1 0 1 1 1 1 1 1 1 1]\n"
     ]
    }
   ],
   "source": [
    "print(multinomialPrediksi)\n",
    "print(\"----------------------------------------------------\")\n",
    "print(complementPrediksi)"
   ]
  },
  {
   "cell_type": "code",
   "execution_count": 127,
   "metadata": {},
   "outputs": [
    {
     "name": "stdout",
     "output_type": "stream",
     "text": [
      "Dengan metode MultinomialNB, diperoleh: \n",
      "              precision    recall  f1-score   support\n",
      "\n",
      "           0       0.79      0.56      0.65        27\n",
      "           1       0.71      0.88      0.79        34\n",
      "\n",
      "    accuracy                           0.74        61\n",
      "   macro avg       0.75      0.72      0.72        61\n",
      "weighted avg       0.75      0.74      0.73        61\n",
      "\n",
      "Skor f1: 0.7894736842105262\n",
      "[[15 12]\n",
      " [ 4 30]]\n"
     ]
    }
   ],
   "source": [
    "print('Dengan metode MultinomialNB, diperoleh: ')\n",
    "print(classification_report(yts,multinomialPrediksi))\n",
    "print('Skor f1:',f1_score(yts,multinomialPrediksi))\n",
    "print(confusion_matrix(yts,multinomialPrediksi))"
   ]
  },
  {
   "cell_type": "code",
   "execution_count": 128,
   "metadata": {},
   "outputs": [
    {
     "name": "stdout",
     "output_type": "stream",
     "text": [
      "Dengan metode ComplementNB, diperoleh: \n",
      "              precision    recall  f1-score   support\n",
      "\n",
      "           0       0.81      0.63      0.71        27\n",
      "           1       0.75      0.88      0.81        34\n",
      "\n",
      "    accuracy                           0.77        61\n",
      "   macro avg       0.78      0.76      0.76        61\n",
      "weighted avg       0.78      0.77      0.77        61\n",
      "\n",
      "Skor f1: 0.8108108108108107\n",
      "[[17 10]\n",
      " [ 4 30]]\n"
     ]
    }
   ],
   "source": [
    "print('Dengan metode ComplementNB, diperoleh: ')\n",
    "# print(classification_report(ytr,complementPrediksiTrain))\n",
    "print(classification_report(yts,complementPrediksi))\n",
    "print('Skor f1:',f1_score(yts,complementPrediksi))\n",
    "print(confusion_matrix(yts,complementPrediksi))"
   ]
  },
  {
   "cell_type": "code",
   "execution_count": 129,
   "metadata": {},
   "outputs": [
    {
     "name": "stdout",
     "output_type": "stream",
     "text": [
      "Dengan metode AdaBoostClassifier, diperoleh: \n",
      "              precision    recall  f1-score   support\n",
      "\n",
      "           0       0.63      0.70      0.67        27\n",
      "           1       0.74      0.68      0.71        34\n",
      "\n",
      "    accuracy                           0.69        61\n",
      "   macro avg       0.69      0.69      0.69        61\n",
      "weighted avg       0.69      0.69      0.69        61\n",
      "\n",
      "Skor f1: 0.7076923076923077\n",
      "[[17 10]\n",
      " [ 4 30]]\n"
     ]
    }
   ],
   "source": [
    "print('Dengan metode AdaBoostClassifier, diperoleh: ')\n",
    "# print(classification_report(ytr,adaboostPrediksiTrain))\n",
    "print(classification_report(yts,adaboostPrediksi))\n",
    "print('Skor f1:',f1_score(yts,adaboostPrediksi))\n",
    "print(confusion_matrix(yts,complementPrediksi))"
   ]
  },
  {
   "cell_type": "markdown",
   "metadata": {},
   "source": [
    "## MODELING with processing"
   ]
  },
  {
   "cell_type": "code",
   "execution_count": 130,
   "metadata": {},
   "outputs": [
    {
     "name": "stdout",
     "output_type": "stream",
     "text": [
      "(244,)\n",
      "(61,)\n"
     ]
    }
   ],
   "source": [
    "from sklearn.model_selection import train_test_split\n",
    "xtrain,xtest,ytrain,ytest=train_test_split(data['processed'].apply(lambda x:x.lower()),data['LABEL'],\n",
    "    stratify=data['LABEL'],\n",
    "    test_size=0.2, \n",
    "    random_state=420)\n",
    "print(xtrain.shape)\n",
    "print(xtest.shape)"
   ]
  },
  {
   "cell_type": "code",
   "execution_count": 131,
   "metadata": {},
   "outputs": [],
   "source": [
    "\n",
    "multinomialPipeline = Pipeline([\n",
    "    ('cv',CountVectorizer()),\n",
    "    ('classifier',MultinomialNB())\n",
    "])\n",
    "multinomialPipeline.fit(xtrain,ytrain)\n",
    "multinomialPrediksiTrain = multinomialPipeline.predict(xtrain)\n",
    "multinomialPrediksi = multinomialPipeline.predict(xtest)\n",
    "#multinomialPrediksiDev = multinomialPipeline.predict(test['RESPONSE'].apply(lambda x:x.lower()))"
   ]
  },
  {
   "cell_type": "code",
   "execution_count": 132,
   "metadata": {},
   "outputs": [],
   "source": [
    "complementPipeline = Pipeline([\n",
    "    ('cv',CountVectorizer()),\n",
    "    ('classifier',ComplementNB())\n",
    "])\n",
    "complementPipeline.fit(xtrain,ytrain)\n",
    "complementPrediksiTrain = complementPipeline.predict(xtrain)\n",
    "complementPrediksi = complementPipeline.predict(xtest)\n",
    "#complementPrediksiDev = complementPipeline.predict(test['RESPONSE'].apply(lambda x:x.lower()))"
   ]
  },
  {
   "cell_type": "code",
   "execution_count": 133,
   "metadata": {},
   "outputs": [],
   "source": [
    "adaboostPipeline = Pipeline([\n",
    "    ('cv',CountVectorizer()),\n",
    "    ('classifier',AdaBoostClassifier())\n",
    "])\n",
    "adaboostPipeline.fit(xtrain,ytrain)\n",
    "adaboostPrediksiTrain = adaboostPipeline.predict(xtrain)\n",
    "adaboostPrediksi = adaboostPipeline.predict(xtest)\n",
    "#adaboostPrediksiDev = adaboostPipeline.predict(test['RESPONSE'].apply(lambda x:x.lower()))"
   ]
  },
  {
   "cell_type": "code",
   "execution_count": 134,
   "metadata": {},
   "outputs": [
    {
     "name": "stdout",
     "output_type": "stream",
     "text": [
      "[1 1 1 1 1 1 1 1 0 1 1 1 1 0 1 0 1 1 1 1 0 0 0 1 0 0 1 1 1 1 1 1 0 1 1 1 1\n",
      " 0 0 1 0 1 1 1 1 1 1 1 1 0 1 1 1 1 1 1 1 1 1 1 1]\n",
      "----------------------------------------------------\n",
      "[1 1 1 1 1 1 1 0 0 1 1 1 1 0 1 0 1 1 1 1 0 0 0 1 0 0 1 1 1 0 1 1 0 1 1 1 1\n",
      " 0 0 1 0 1 1 1 1 1 1 1 1 0 1 1 1 0 1 1 1 1 1 1 1]\n"
     ]
    }
   ],
   "source": [
    "print(multinomialPrediksi)\n",
    "print(\"----------------------------------------------------\")\n",
    "print(complementPrediksi)"
   ]
  },
  {
   "cell_type": "code",
   "execution_count": 135,
   "metadata": {},
   "outputs": [
    {
     "name": "stdout",
     "output_type": "stream",
     "text": [
      " MultinomialNB + wordstop + stemming, diperoleh: \n",
      "              precision    recall  f1-score   support\n",
      "\n",
      "           0       0.77      0.37      0.50        27\n",
      "           1       0.65      0.91      0.76        34\n",
      "\n",
      "    accuracy                           0.67        61\n",
      "   macro avg       0.71      0.64      0.63        61\n",
      "weighted avg       0.70      0.67      0.64        61\n",
      "\n",
      "Skor f1: 0.7560975609756098\n",
      "[[10 17]\n",
      " [ 3 31]]\n"
     ]
    }
   ],
   "source": [
    "print(' MultinomialNB + wordstop + stemming, diperoleh: ')\n",
    "print(classification_report(ytest,multinomialPrediksi))\n",
    "print('Skor f1:',f1_score(ytest,multinomialPrediksi))\n",
    "print(confusion_matrix(ytest,multinomialPrediksi))"
   ]
  },
  {
   "cell_type": "code",
   "execution_count": 136,
   "metadata": {},
   "outputs": [
    {
     "name": "stdout",
     "output_type": "stream",
     "text": [
      "ComplementNB + wordstop + stemming, diperoleh: \n",
      "              precision    recall  f1-score   support\n",
      "\n",
      "           0       0.69      0.41      0.51        27\n",
      "           1       0.64      0.85      0.73        34\n",
      "\n",
      "    accuracy                           0.66        61\n",
      "   macro avg       0.67      0.63      0.62        61\n",
      "weighted avg       0.66      0.66      0.64        61\n",
      "\n",
      "Skor f1: 0.7341772151898734\n",
      "[[11 16]\n",
      " [ 5 29]]\n"
     ]
    }
   ],
   "source": [
    "print('ComplementNB + wordstop + stemming, diperoleh: ')\n",
    "# print(classification_report(ytr,complementPrediksiTrain))\n",
    "print(classification_report(ytest,complementPrediksi))\n",
    "print('Skor f1:',f1_score(ytest,complementPrediksi))\n",
    "print(confusion_matrix(ytest,complementPrediksi))"
   ]
  },
  {
   "cell_type": "code",
   "execution_count": 137,
   "metadata": {},
   "outputs": [
    {
     "name": "stdout",
     "output_type": "stream",
     "text": [
      " AdaBoostClassifier + wordstop + stemming, diperoleh: \n",
      "              precision    recall  f1-score   support\n",
      "\n",
      "           0       0.77      0.63      0.69        27\n",
      "           1       0.74      0.85      0.79        34\n",
      "\n",
      "    accuracy                           0.75        61\n",
      "   macro avg       0.76      0.74      0.74        61\n",
      "weighted avg       0.76      0.75      0.75        61\n",
      "\n",
      "Skor f1: 0.7945205479452054\n",
      "[[11 16]\n",
      " [ 5 29]]\n"
     ]
    }
   ],
   "source": [
    "print(' AdaBoostClassifier + wordstop + stemming, diperoleh: ')\n",
    "# print(classification_report(ytr,adaboostPrediksiTrain))\n",
    "print(classification_report(ytest,adaboostPrediksi))\n",
    "print('Skor f1:',f1_score(ytest,adaboostPrediksi))\n",
    "print(confusion_matrix(ytest,complementPrediksi))"
   ]
  },
  {
   "cell_type": "code",
   "execution_count": null,
   "metadata": {},
   "outputs": [],
   "source": []
  }
 ],
 "metadata": {
  "kernelspec": {
   "display_name": "Python 3",
   "language": "python",
   "name": "python3"
  },
  "language_info": {
   "codemirror_mode": {
    "name": "ipython",
    "version": 3
   },
   "file_extension": ".py",
   "mimetype": "text/x-python",
   "name": "python",
   "nbconvert_exporter": "python",
   "pygments_lexer": "ipython3",
   "version": "3.7.3"
  }
 },
 "nbformat": 4,
 "nbformat_minor": 4
}
