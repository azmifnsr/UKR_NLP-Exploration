{
 "cells": [
  {
   "cell_type": "code",
   "execution_count": 106,
   "metadata": {},
   "outputs": [],
   "source": [
    "import numpy as np\n",
    "import pandas as pd\n",
    "import matplotlib.pyplot as plt\n",
    "import seaborn as sns\n",
    "import string\n",
    "from sklearn.feature_extraction.text import CountVectorizer\n",
    "from sklearn.pipeline import Pipeline\n",
    "from sklearn.naive_bayes import ComplementNB\n",
    "from sklearn.naive_bayes import MultinomialNB\n",
    "from sklearn.ensemble import AdaBoostClassifier\n",
    "from sklearn.metrics import classification_report,confusion_matrix,f1_score\n",
    "from PIL import Image\n",
    "from wordcloud import WordCloud, STOPWORDS, ImageColorGenerator"
   ]
  },
  {
   "cell_type": "markdown",
   "metadata": {},
   "source": [
    "## SASTRAWI EXMPL CODE"
   ]
  },
  {
   "cell_type": "code",
   "execution_count": 107,
   "metadata": {},
   "outputs": [
    {
     "data": {
      "text/plain": [
       "'ekonomi indonesia sedang dalam tumbuh yang bangga'"
      ]
     },
     "execution_count": 107,
     "metadata": {},
     "output_type": "execute_result"
    }
   ],
   "source": [
    "# import Sastrawi package\n",
    "from Sastrawi.Stemmer.StemmerFactory import StemmerFactory\n",
    "stemmer = StemmerFactory().create_stemmer()\n",
    "sentence = 'Perekonomian Indonesia sedang dalam pertumbuhan/yang membanggakan'\n",
    "stemmer.stem(sentence)"
   ]
  },
  {
   "cell_type": "code",
   "execution_count": 108,
   "metadata": {},
   "outputs": [
    {
     "data": {
      "text/plain": [
       "'Dengan Menggunakan Python Library Sastrawi dapat melakukan proses Stopword Removal'"
      ]
     },
     "execution_count": 108,
     "metadata": {},
     "output_type": "execute_result"
    }
   ],
   "source": [
    "from Sastrawi.StopWordRemover.StopWordRemoverFactory import StopWordRemoverFactory\n",
    "kalimat = 'Dengan Menggunakan Python dan Library Sastrawi saya dapat melakukan proses Stopword Removal'\n",
    "swdel = StopWordRemoverFactory().create_stop_word_remover()\n",
    "swdel.remove(kalimat)"
   ]
  },
  {
   "cell_type": "markdown",
   "metadata": {},
   "source": [
    "### START DATA EXPLORATION"
   ]
  },
  {
   "cell_type": "code",
   "execution_count": 109,
   "metadata": {},
   "outputs": [
    {
     "name": "stdout",
     "output_type": "stream",
     "text": [
      "268\n",
      "       RES_ID  RESPONSE\n",
      "LABEL                  \n",
      "0          77        77\n",
      "1         191       191\n"
     ]
    },
    {
     "data": {
      "text/html": [
       "<div>\n",
       "<style scoped>\n",
       "    .dataframe tbody tr th:only-of-type {\n",
       "        vertical-align: middle;\n",
       "    }\n",
       "\n",
       "    .dataframe tbody tr th {\n",
       "        vertical-align: top;\n",
       "    }\n",
       "\n",
       "    .dataframe thead th {\n",
       "        text-align: right;\n",
       "    }\n",
       "</style>\n",
       "<table border=\"1\" class=\"dataframe\">\n",
       "  <thead>\n",
       "    <tr style=\"text-align: right;\">\n",
       "      <th></th>\n",
       "      <th>RES_ID</th>\n",
       "      <th>RESPONSE</th>\n",
       "      <th>LABEL</th>\n",
       "    </tr>\n",
       "  </thead>\n",
       "  <tbody>\n",
       "    <tr>\n",
       "      <th>0</th>\n",
       "      <td>TRA1</td>\n",
       "      <td>intetraksi/beradaptasi terhadap lingkungan yan...</td>\n",
       "      <td>1</td>\n",
       "    </tr>\n",
       "    <tr>\n",
       "      <th>1</th>\n",
       "      <td>TRA2</td>\n",
       "      <td>seperti jatuhnya meteor tsunami gempa bumi</td>\n",
       "      <td>0</td>\n",
       "    </tr>\n",
       "    <tr>\n",
       "      <th>2</th>\n",
       "      <td>TRA3</td>\n",
       "      <td>hanya tuhan yang tahu tantangan nya itu apaan</td>\n",
       "      <td>0</td>\n",
       "    </tr>\n",
       "    <tr>\n",
       "      <th>3</th>\n",
       "      <td>TRA4</td>\n",
       "      <td>mereka akan sulit beradaptasi</td>\n",
       "      <td>1</td>\n",
       "    </tr>\n",
       "    <tr>\n",
       "      <th>4</th>\n",
       "      <td>TRA5</td>\n",
       "      <td>Tempat tinggal, ekonomi, dan pekerjaan</td>\n",
       "      <td>1</td>\n",
       "    </tr>\n",
       "  </tbody>\n",
       "</table>\n",
       "</div>"
      ],
      "text/plain": [
       "  RES_ID                                           RESPONSE  LABEL\n",
       "0   TRA1  intetraksi/beradaptasi terhadap lingkungan yan...      1\n",
       "1   TRA2         seperti jatuhnya meteor tsunami gempa bumi      0\n",
       "2   TRA3      hanya tuhan yang tahu tantangan nya itu apaan      0\n",
       "3   TRA4                      mereka akan sulit beradaptasi      1\n",
       "4   TRA5             Tempat tinggal, ekonomi, dan pekerjaan      1"
      ]
     },
     "execution_count": 109,
     "metadata": {},
     "output_type": "execute_result"
    }
   ],
   "source": [
    "data=pd.read_csv('UKARA DATA A/Data A/data_train_A.csv')\n",
    "print(len(data))\n",
    "print(data.groupby(data['LABEL']).count())\n",
    "data.head()\n"
   ]
  },
  {
   "cell_type": "code",
   "execution_count": 110,
   "metadata": {},
   "outputs": [
    {
     "data": {
      "text/plain": [
       "RES_ID      object\n",
       "RESPONSE    object\n",
       "LABEL        int64\n",
       "dtype: object"
      ]
     },
     "execution_count": 110,
     "metadata": {},
     "output_type": "execute_result"
    }
   ],
   "source": [
    "data.dtypes"
   ]
  },
  {
   "cell_type": "code",
   "execution_count": 111,
   "metadata": {},
   "outputs": [
    {
     "data": {
      "text/plain": [
       "Text(0.5, 1.0, 'count label')"
      ]
     },
     "execution_count": 111,
     "metadata": {},
     "output_type": "execute_result"
    },
    {
     "data": {
      "image/png": "[encoded data removed]",
      "text/plain": [
       "<Figure size 432x288 with 1 Axes>"
      ]
     },
     "metadata": {
      "needs_background": "light"
     },
     "output_type": "display_data"
    }
   ],
   "source": [
    "sns.countplot(data['LABEL'])\n",
    "plt.xlabel('Label')\n",
    "plt.title('count label')"
   ]
  },
  {
   "cell_type": "markdown",
   "metadata": {},
   "source": [
    "## PREP DATA"
   ]
  },
  {
   "cell_type": "code",
   "execution_count": 112,
   "metadata": {},
   "outputs": [
    {
     "data": {
      "text/html": [
       "<div>\n",
       "<style scoped>\n",
       "    .dataframe tbody tr th:only-of-type {\n",
       "        vertical-align: middle;\n",
       "    }\n",
       "\n",
       "    .dataframe tbody tr th {\n",
       "        vertical-align: top;\n",
       "    }\n",
       "\n",
       "    .dataframe thead th {\n",
       "        text-align: right;\n",
       "    }\n",
       "</style>\n",
       "<table border=\"1\" class=\"dataframe\">\n",
       "  <thead>\n",
       "    <tr style=\"text-align: right;\">\n",
       "      <th></th>\n",
       "      <th>RES_ID</th>\n",
       "      <th>RESPONSE</th>\n",
       "      <th>LABEL</th>\n",
       "      <th>processed</th>\n",
       "    </tr>\n",
       "  </thead>\n",
       "  <tbody>\n",
       "    <tr>\n",
       "      <th>0</th>\n",
       "      <td>TRA1</td>\n",
       "      <td>intetraksi/beradaptasi terhadap lingkungan yan...</td>\n",
       "      <td>1</td>\n",
       "      <td>intetraksi/beradaptasi terhadap lingkungan yan...</td>\n",
       "    </tr>\n",
       "    <tr>\n",
       "      <th>1</th>\n",
       "      <td>TRA2</td>\n",
       "      <td>seperti jatuhnya meteor tsunami gempa bumi</td>\n",
       "      <td>0</td>\n",
       "      <td>seperti jatuhnya meteor tsunami gempa bumi</td>\n",
       "    </tr>\n",
       "    <tr>\n",
       "      <th>2</th>\n",
       "      <td>TRA3</td>\n",
       "      <td>hanya tuhan yang tahu tantangan nya itu apaan</td>\n",
       "      <td>0</td>\n",
       "      <td>hanya tuhan yang tahu tantangan nya itu apaan</td>\n",
       "    </tr>\n",
       "    <tr>\n",
       "      <th>3</th>\n",
       "      <td>TRA4</td>\n",
       "      <td>mereka akan sulit beradaptasi</td>\n",
       "      <td>1</td>\n",
       "      <td>mereka akan sulit beradaptasi</td>\n",
       "    </tr>\n",
       "    <tr>\n",
       "      <th>4</th>\n",
       "      <td>TRA5</td>\n",
       "      <td>Tempat tinggal, ekonomi, dan pekerjaan</td>\n",
       "      <td>1</td>\n",
       "      <td>tempat tinggal, ekonomi, dan pekerjaan</td>\n",
       "    </tr>\n",
       "  </tbody>\n",
       "</table>\n",
       "</div>"
      ],
      "text/plain": [
       "  RES_ID                                           RESPONSE  LABEL  \\\n",
       "0   TRA1  intetraksi/beradaptasi terhadap lingkungan yan...      1   \n",
       "1   TRA2         seperti jatuhnya meteor tsunami gempa bumi      0   \n",
       "2   TRA3      hanya tuhan yang tahu tantangan nya itu apaan      0   \n",
       "3   TRA4                      mereka akan sulit beradaptasi      1   \n",
       "4   TRA5             Tempat tinggal, ekonomi, dan pekerjaan      1   \n",
       "\n",
       "                                           processed  \n",
       "0  intetraksi/beradaptasi terhadap lingkungan yan...  \n",
       "1         seperti jatuhnya meteor tsunami gempa bumi  \n",
       "2      hanya tuhan yang tahu tantangan nya itu apaan  \n",
       "3                      mereka akan sulit beradaptasi  \n",
       "4             tempat tinggal, ekonomi, dan pekerjaan  "
      ]
     },
     "execution_count": 112,
     "metadata": {},
     "output_type": "execute_result"
    }
   ],
   "source": [
    "data['processed'] = data['RESPONSE'].str.lower()\n",
    "data.head()"
   ]
  },
  {
   "cell_type": "code",
   "execution_count": 114,
   "metadata": {},
   "outputs": [
    {
     "name": "stderr",
     "output_type": "stream",
     "text": [
      "C:\\Users\\iykmuham0008\\AppData\\Local\\Continuum\\anaconda3\\lib\\site-packages\\ipykernel_launcher.py:9: SettingWithCopyWarning: \n",
      "A value is trying to be set on a copy of a slice from a DataFrame\n",
      "\n",
      "See the caveats in the documentation: http://pandas.pydata.org/pandas-docs/stable/indexing.html#indexing-view-versus-copy\n",
      "  if __name__ == '__main__':\n",
      "C:\\Users\\iykmuham0008\\AppData\\Local\\Continuum\\anaconda3\\lib\\site-packages\\ipykernel_launcher.py:14: SettingWithCopyWarning: \n",
      "A value is trying to be set on a copy of a slice from a DataFrame\n",
      "\n",
      "See the caveats in the documentation: http://pandas.pydata.org/pandas-docs/stable/indexing.html#indexing-view-versus-copy\n",
      "  \n"
     ]
    },
    {
     "data": {
      "text/html": [
       "<div>\n",
       "<style scoped>\n",
       "    .dataframe tbody tr th:only-of-type {\n",
       "        vertical-align: middle;\n",
       "    }\n",
       "\n",
       "    .dataframe tbody tr th {\n",
       "        vertical-align: top;\n",
       "    }\n",
       "\n",
       "    .dataframe thead th {\n",
       "        text-align: right;\n",
       "    }\n",
       "</style>\n",
       "<table border=\"1\" class=\"dataframe\">\n",
       "  <thead>\n",
       "    <tr style=\"text-align: right;\">\n",
       "      <th></th>\n",
       "      <th>RES_ID</th>\n",
       "      <th>RESPONSE</th>\n",
       "      <th>LABEL</th>\n",
       "      <th>processed</th>\n",
       "    </tr>\n",
       "  </thead>\n",
       "  <tbody>\n",
       "    <tr>\n",
       "      <th>0</th>\n",
       "      <td>TRA1</td>\n",
       "      <td>intetraksi/beradaptasi terhadap lingkungan yan...</td>\n",
       "      <td>1</td>\n",
       "      <td>intetraksi adaptasi hadap lingkung baru</td>\n",
       "    </tr>\n",
       "    <tr>\n",
       "      <th>1</th>\n",
       "      <td>TRA2</td>\n",
       "      <td>seperti jatuhnya meteor tsunami gempa bumi</td>\n",
       "      <td>0</td>\n",
       "      <td>jatuh meteor tsunami gempa bumi</td>\n",
       "    </tr>\n",
       "    <tr>\n",
       "      <th>2</th>\n",
       "      <td>TRA3</td>\n",
       "      <td>hanya tuhan yang tahu tantangan nya itu apaan</td>\n",
       "      <td>0</td>\n",
       "      <td>tuhan tahu tantang nya apa</td>\n",
       "    </tr>\n",
       "    <tr>\n",
       "      <th>3</th>\n",
       "      <td>TRA4</td>\n",
       "      <td>mereka akan sulit beradaptasi</td>\n",
       "      <td>1</td>\n",
       "      <td>akan sulit adaptasi</td>\n",
       "    </tr>\n",
       "    <tr>\n",
       "      <th>4</th>\n",
       "      <td>TRA5</td>\n",
       "      <td>Tempat tinggal, ekonomi, dan pekerjaan</td>\n",
       "      <td>1</td>\n",
       "      <td>tempat tinggal ekonomi kerja</td>\n",
       "    </tr>\n",
       "  </tbody>\n",
       "</table>\n",
       "</div>"
      ],
      "text/plain": [
       "  RES_ID                                           RESPONSE  LABEL  \\\n",
       "0   TRA1  intetraksi/beradaptasi terhadap lingkungan yan...      1   \n",
       "1   TRA2         seperti jatuhnya meteor tsunami gempa bumi      0   \n",
       "2   TRA3      hanya tuhan yang tahu tantangan nya itu apaan      0   \n",
       "3   TRA4                      mereka akan sulit beradaptasi      1   \n",
       "4   TRA5             Tempat tinggal, ekonomi, dan pekerjaan      1   \n",
       "\n",
       "                                 processed  \n",
       "0  intetraksi adaptasi hadap lingkung baru  \n",
       "1          jatuh meteor tsunami gempa bumi  \n",
       "2               tuhan tahu tantang nya apa  \n",
       "3                      akan sulit adaptasi  \n",
       "4             tempat tinggal ekonomi kerja  "
      ]
     },
     "execution_count": 114,
     "metadata": {},
     "output_type": "execute_result"
    }
   ],
   "source": [
    "from Sastrawi.Stemmer.StemmerFactory import StemmerFactory\n",
    "from Sastrawi.StopWordRemover.StopWordRemoverFactory import StopWordRemoverFactory\n",
    "\n",
    "stemmer = StemmerFactory().create_stemmer()\n",
    "swdel = StopWordRemoverFactory().create_stop_word_remover()\n",
    "\n",
    "tmp = 0 #row index\n",
    "for row in data['processed']:\n",
    "    data['processed'][tmp] = stemmer.stem(row)\n",
    "    tmp = tmp+1\n",
    "    \n",
    "tmp = 0 #row index\n",
    "for row in data['processed']:\n",
    "    data['processed'][tmp] = swdel.remove(row)\n",
    "    tmp = tmp+1\n",
    "    \n",
    "data.head()"
   ]
  },
  {
   "cell_type": "code",
   "execution_count": 115,
   "metadata": {},
   "outputs": [
    {
     "name": "stdout",
     "output_type": "stream",
     "text": [
      "0    intetraksi adaptasi hadap lingkung baru\n",
      "1            jatuh meteor tsunami gempa bumi\n",
      "2                 tuhan tahu tantang nya apa\n",
      "3                        akan sulit adaptasi\n",
      "4               tempat tinggal ekonomi kerja\n",
      "Name: processed, dtype: object\n",
      "263                                                                       harus ajar adaptasi lingkung baru\n",
      "264    salah satu tantang akan hadap ungsi iklim sulit baur cari kerja baru laku langsung hidup tempat baru\n",
      "265                                              hadap lingkung mungkin akan perlu waktu yang lama adaptasi\n",
      "266                                     akan baur orang baru usaha terima budaya baru cari mampu kerja beda\n",
      "267                                                                                     cari tempat tinggal\n",
      "Name: processed, dtype: object\n"
     ]
    }
   ],
   "source": [
    "with pd.option_context('display.max_rows', 999,'display.max_colwidth', 999):\n",
    "    print(data['processed'].head())\n",
    "    print(data['processed'].tail())\n",
    "    #print(data['processed'])"
   ]
  },
  {
   "cell_type": "markdown",
   "metadata": {},
   "source": [
    "## MODELING without processing"
   ]
  },
  {
   "cell_type": "code",
   "execution_count": 7,
   "metadata": {},
   "outputs": [
    {
     "name": "stdout",
     "output_type": "stream",
     "text": [
      "(214,)\n",
      "(54,)\n"
     ]
    }
   ],
   "source": [
    "from sklearn.model_selection import train_test_split\n",
    "xtr,xts,ytr,yts=train_test_split(data['RESPONSE'].apply(lambda x:x.lower()),data['LABEL'],\n",
    "    stratify=data['LABEL'],\n",
    "    test_size=0.2, \n",
    "    random_state=420)\n",
    "print(xtr.shape)\n",
    "print(xts.shape)"
   ]
  },
  {
   "cell_type": "code",
   "execution_count": 13,
   "metadata": {},
   "outputs": [],
   "source": [
    "test=pd.read_csv('UKARA DATA A/Data A/data_dev_A.csv')\n",
    "#print(np.array(test['RESPONSE']).reshape(len(test['RESPONSE']),1))"
   ]
  },
  {
   "cell_type": "code",
   "execution_count": 14,
   "metadata": {},
   "outputs": [],
   "source": [
    "\n",
    "multinomialPipeline = Pipeline([\n",
    "    ('cv',CountVectorizer()),\n",
    "    ('classifier',MultinomialNB())\n",
    "])\n",
    "multinomialPipeline.fit(xtr,ytr)\n",
    "multinomialPrediksiTrain = multinomialPipeline.predict(xtr)\n",
    "multinomialPrediksi = multinomialPipeline.predict(xts)\n",
    "multinomialPrediksiDev = multinomialPipeline.predict(test['RESPONSE'].apply(lambda x:x.lower()))"
   ]
  },
  {
   "cell_type": "code",
   "execution_count": 15,
   "metadata": {},
   "outputs": [],
   "source": [
    "complementPipeline = Pipeline([\n",
    "    ('cv',CountVectorizer()),\n",
    "    ('classifier',ComplementNB())\n",
    "])\n",
    "complementPipeline.fit(xtr,ytr)\n",
    "complementPrediksiTrain = complementPipeline.predict(xtr)\n",
    "complementPrediksi = complementPipeline.predict(xts)\n",
    "complementPrediksiDev = complementPipeline.predict(test['RESPONSE'].apply(lambda x:x.lower()))"
   ]
  },
  {
   "cell_type": "code",
   "execution_count": 16,
   "metadata": {},
   "outputs": [],
   "source": [
    "adaboostPipeline = Pipeline([\n",
    "    ('cv',CountVectorizer()),\n",
    "    ('classifier',AdaBoostClassifier())\n",
    "])\n",
    "adaboostPipeline.fit(xtr,ytr)\n",
    "adaboostPrediksiTrain = adaboostPipeline.predict(xtr)\n",
    "adaboostPrediksi = adaboostPipeline.predict(xts)\n",
    "adaboostPrediksiDev = adaboostPipeline.predict(test['RESPONSE'].apply(lambda x:x.lower()))"
   ]
  },
  {
   "cell_type": "code",
   "execution_count": 17,
   "metadata": {},
   "outputs": [
    {
     "name": "stdout",
     "output_type": "stream",
     "text": [
      "[1 0 1 1 1 1 1 1 1 1 1 1 1 1 1 1 1 1 1 1 1 1 1 1 1 1 0 1 1 1 1 0 1 1 1 1 1\n",
      " 1 1 1 1 1 1 1 1 1 1 1 1 1 1 1 1 1]\n",
      "----------------------------------------------------\n",
      "[1 0 1 1 1 0 1 1 1 1 1 1 1 1 1 1 1 1 1 0 0 1 1 0 1 1 0 1 1 1 1 0 0 1 1 1 1\n",
      " 1 1 1 1 1 1 1 1 1 1 1 1 1 0 1 1 1]\n"
     ]
    }
   ],
   "source": [
    "print(multinomialPrediksi)\n",
    "print(\"----------------------------------------------------\")\n",
    "print(complementPrediksi)"
   ]
  },
  {
   "cell_type": "code",
   "execution_count": 18,
   "metadata": {},
   "outputs": [
    {
     "name": "stdout",
     "output_type": "stream",
     "text": [
      "Dengan metode MultinomialNB, diperoleh: \n",
      "              precision    recall  f1-score   support\n",
      "\n",
      "           0       1.00      0.19      0.32        16\n",
      "           1       0.75      1.00      0.85        38\n",
      "\n",
      "    accuracy                           0.76        54\n",
      "   macro avg       0.87      0.59      0.58        54\n",
      "weighted avg       0.82      0.76      0.69        54\n",
      "\n",
      "Skor f1: 0.8539325842696629\n",
      "[[ 3 13]\n",
      " [ 0 38]]\n"
     ]
    }
   ],
   "source": [
    "print('Dengan metode MultinomialNB, diperoleh: ')\n",
    "print(classification_report(yts,multinomialPrediksi))\n",
    "print('Skor f1:',f1_score(yts,multinomialPrediksi))\n",
    "print(confusion_matrix(yts,multinomialPrediksi))"
   ]
  },
  {
   "cell_type": "code",
   "execution_count": 19,
   "metadata": {},
   "outputs": [
    {
     "name": "stdout",
     "output_type": "stream",
     "text": [
      "Dengan metode ComplementNB, diperoleh: \n",
      "              precision    recall  f1-score   support\n",
      "\n",
      "           0       0.89      0.50      0.64        16\n",
      "           1       0.82      0.97      0.89        38\n",
      "\n",
      "    accuracy                           0.83        54\n",
      "   macro avg       0.86      0.74      0.77        54\n",
      "weighted avg       0.84      0.83      0.82        54\n",
      "\n",
      "Skor f1: 0.891566265060241\n",
      "[[ 8  8]\n",
      " [ 1 37]]\n"
     ]
    }
   ],
   "source": [
    "print('Dengan metode ComplementNB, diperoleh: ')\n",
    "# print(classification_report(ytr,complementPrediksiTrain))\n",
    "print(classification_report(yts,complementPrediksi))\n",
    "print('Skor f1:',f1_score(yts,complementPrediksi))\n",
    "print(confusion_matrix(yts,complementPrediksi))"
   ]
  },
  {
   "cell_type": "code",
   "execution_count": 20,
   "metadata": {},
   "outputs": [
    {
     "name": "stdout",
     "output_type": "stream",
     "text": [
      "Dengan metode AdaBoostClassifier, diperoleh: \n",
      "              precision    recall  f1-score   support\n",
      "\n",
      "           0       0.61      0.69      0.65        16\n",
      "           1       0.86      0.82      0.84        38\n",
      "\n",
      "    accuracy                           0.78        54\n",
      "   macro avg       0.74      0.75      0.74        54\n",
      "weighted avg       0.79      0.78      0.78        54\n",
      "\n",
      "Skor f1: 0.8378378378378377\n",
      "[[ 8  8]\n",
      " [ 1 37]]\n"
     ]
    }
   ],
   "source": [
    "print('Dengan metode AdaBoostClassifier, diperoleh: ')\n",
    "# print(classification_report(ytr,adaboostPrediksiTrain))\n",
    "print(classification_report(yts,adaboostPrediksi))\n",
    "print('Skor f1:',f1_score(yts,adaboostPrediksi))\n",
    "print(confusion_matrix(yts,complementPrediksi))"
   ]
  },
  {
   "cell_type": "markdown",
   "metadata": {},
   "source": [
    "## MODELING with processing"
   ]
  },
  {
   "cell_type": "code",
   "execution_count": 116,
   "metadata": {},
   "outputs": [
    {
     "name": "stdout",
     "output_type": "stream",
     "text": [
      "(214,)\n",
      "(54,)\n"
     ]
    }
   ],
   "source": [
    "from sklearn.model_selection import train_test_split\n",
    "xtrain,xtest,ytrain,ytest=train_test_split(data['processed'].apply(lambda x:x.lower()),data['LABEL'],\n",
    "    stratify=data['LABEL'],\n",
    "    test_size=0.2, \n",
    "    random_state=420)\n",
    "print(xtrain.shape)\n",
    "print(xtest.shape)"
   ]
  },
  {
   "cell_type": "code",
   "execution_count": 117,
   "metadata": {},
   "outputs": [],
   "source": [
    "\n",
    "multinomialPipeline = Pipeline([\n",
    "    ('cv',CountVectorizer()),\n",
    "    ('classifier',MultinomialNB())\n",
    "])\n",
    "multinomialPipeline.fit(xtrain,ytrain)\n",
    "multinomialPrediksiTrain = multinomialPipeline.predict(xtrain)\n",
    "multinomialPrediksi = multinomialPipeline.predict(xtest)\n",
    "#multinomialPrediksiDev = multinomialPipeline.predict(test['RESPONSE'].apply(lambda x:x.lower()))"
   ]
  },
  {
   "cell_type": "code",
   "execution_count": 118,
   "metadata": {},
   "outputs": [],
   "source": [
    "complementPipeline = Pipeline([\n",
    "    ('cv',CountVectorizer()),\n",
    "    ('classifier',ComplementNB())\n",
    "])\n",
    "complementPipeline.fit(xtrain,ytrain)\n",
    "complementPrediksiTrain = complementPipeline.predict(xtrain)\n",
    "complementPrediksi = complementPipeline.predict(xtest)\n",
    "#complementPrediksiDev = complementPipeline.predict(test['RESPONSE'].apply(lambda x:x.lower()))"
   ]
  },
  {
   "cell_type": "code",
   "execution_count": 119,
   "metadata": {},
   "outputs": [],
   "source": [
    "adaboostPipeline = Pipeline([\n",
    "    ('cv',CountVectorizer()),\n",
    "    ('classifier',AdaBoostClassifier())\n",
    "])\n",
    "adaboostPipeline.fit(xtrain,ytrain)\n",
    "adaboostPrediksiTrain = adaboostPipeline.predict(xtrain)\n",
    "adaboostPrediksi = adaboostPipeline.predict(xtest)\n",
    "#adaboostPrediksiDev = adaboostPipeline.predict(test['RESPONSE'].apply(lambda x:x.lower()))"
   ]
  },
  {
   "cell_type": "code",
   "execution_count": 120,
   "metadata": {},
   "outputs": [
    {
     "name": "stdout",
     "output_type": "stream",
     "text": [
      "[1 0 1 1 1 1 1 1 1 1 1 1 1 1 1 1 1 1 1 0 1 1 1 0 1 1 0 1 1 1 1 0 1 1 1 1 1\n",
      " 1 1 1 1 1 1 1 1 1 1 1 1 1 1 1 1 1]\n",
      "----------------------------------------------------\n",
      "[1 0 1 1 1 0 1 1 1 1 1 1 1 1 1 1 1 0 1 0 0 0 1 0 1 1 0 1 1 1 1 0 0 1 1 1 1\n",
      " 1 1 1 1 1 0 1 1 1 1 1 1 1 0 1 1 1]\n"
     ]
    }
   ],
   "source": [
    "print(multinomialPrediksi)\n",
    "print(\"----------------------------------------------------\")\n",
    "print(complementPrediksi)"
   ]
  },
  {
   "cell_type": "code",
   "execution_count": 121,
   "metadata": {},
   "outputs": [
    {
     "name": "stdout",
     "output_type": "stream",
     "text": [
      " MultinomialNB + wordstop + stemming, diperoleh: \n",
      "              precision    recall  f1-score   support\n",
      "\n",
      "           0       1.00      0.31      0.48        16\n",
      "           1       0.78      1.00      0.87        38\n",
      "\n",
      "    accuracy                           0.80        54\n",
      "   macro avg       0.89      0.66      0.67        54\n",
      "weighted avg       0.84      0.80      0.76        54\n",
      "\n",
      "Skor f1: 0.8735632183908045\n",
      "[[ 5 11]\n",
      " [ 0 38]]\n"
     ]
    }
   ],
   "source": [
    "print(' MultinomialNB + wordstop + stemming, diperoleh: ')\n",
    "print(classification_report(ytest,multinomialPrediksi))\n",
    "print('Skor f1:',f1_score(ytest,multinomialPrediksi))\n",
    "print(confusion_matrix(ytest,multinomialPrediksi))"
   ]
  },
  {
   "cell_type": "code",
   "execution_count": 122,
   "metadata": {},
   "outputs": [
    {
     "name": "stdout",
     "output_type": "stream",
     "text": [
      "ComplementNB + wordstop + stemming, diperoleh: \n",
      "              precision    recall  f1-score   support\n",
      "\n",
      "           0       0.83      0.62      0.71        16\n",
      "           1       0.86      0.95      0.90        38\n",
      "\n",
      "    accuracy                           0.85        54\n",
      "   macro avg       0.85      0.79      0.81        54\n",
      "weighted avg       0.85      0.85      0.84        54\n",
      "\n",
      "Skor f1: 0.9\n",
      "[[10  6]\n",
      " [ 2 36]]\n"
     ]
    }
   ],
   "source": [
    "print('ComplementNB + wordstop + stemming, diperoleh: ')\n",
    "# print(classification_report(ytr,complementPrediksiTrain))\n",
    "print(classification_report(ytest,complementPrediksi))\n",
    "print('Skor f1:',f1_score(ytest,complementPrediksi))\n",
    "print(confusion_matrix(ytest,complementPrediksi))"
   ]
  },
  {
   "cell_type": "code",
   "execution_count": 123,
   "metadata": {},
   "outputs": [
    {
     "name": "stdout",
     "output_type": "stream",
     "text": [
      " AdaBoostClassifier + wordstop + stemming, diperoleh: \n",
      "              precision    recall  f1-score   support\n",
      "\n",
      "           0       0.71      0.62      0.67        16\n",
      "           1       0.85      0.89      0.87        38\n",
      "\n",
      "    accuracy                           0.81        54\n",
      "   macro avg       0.78      0.76      0.77        54\n",
      "weighted avg       0.81      0.81      0.81        54\n",
      "\n",
      "Skor f1: 0.8717948717948718\n",
      "[[10  6]\n",
      " [ 2 36]]\n"
     ]
    }
   ],
   "source": [
    "print(' AdaBoostClassifier + wordstop + stemming, diperoleh: ')\n",
    "# print(classification_report(ytr,adaboostPrediksiTrain))\n",
    "print(classification_report(ytest,adaboostPrediksi))\n",
    "print('Skor f1:',f1_score(ytest,adaboostPrediksi))\n",
    "print(confusion_matrix(ytest,complementPrediksi))"
   ]
  },
  {
   "cell_type": "code",
   "execution_count": null,
   "metadata": {},
   "outputs": [],
   "source": []
  }
 ],
 "metadata": {
  "kernelspec": {
   "display_name": "Python 3",
   "language": "python",
   "name": "python3"
  },
  "language_info": {
   "codemirror_mode": {
    "name": "ipython",
    "version": 3
   },
   "file_extension": ".py",
   "mimetype": "text/x-python",
   "name": "python",
   "nbconvert_exporter": "python",
   "pygments_lexer": "ipython3",
   "version": "3.7.3"
  }
 },
 "nbformat": 4,
 "nbformat_minor": 4
}
